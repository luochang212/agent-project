{
 "cells": [
  {
   "cell_type": "markdown",
   "id": "b2552329-2d5c-4032-98e3-10b6df16319d",
   "metadata": {},
   "source": [
    "## 使用 `dotenv` 加载环境变量"
   ]
  },
  {
   "cell_type": "code",
   "execution_count": 1,
   "id": "8b2d74eb-4333-4dab-90e8-6c1908335978",
   "metadata": {
    "execution": {
     "iopub.execute_input": "2025-06-07T06:27:14.219164Z",
     "iopub.status.busy": "2025-06-07T06:27:14.218884Z",
     "iopub.status.idle": "2025-06-07T06:27:14.221027Z",
     "shell.execute_reply": "2025-06-07T06:27:14.220682Z",
     "shell.execute_reply.started": "2025-06-07T06:27:14.219153Z"
    }
   },
   "outputs": [],
   "source": [
    "# !uv pip install python-dotenv"
   ]
  },
  {
   "cell_type": "code",
   "execution_count": 2,
   "id": "dda88285-dc4e-4669-b2f0-3330fedd8ec7",
   "metadata": {
    "execution": {
     "iopub.execute_input": "2025-06-07T06:27:14.221558Z",
     "iopub.status.busy": "2025-06-07T06:27:14.221383Z",
     "iopub.status.idle": "2025-06-07T06:27:14.226216Z",
     "shell.execute_reply": "2025-06-07T06:27:14.225808Z",
     "shell.execute_reply.started": "2025-06-07T06:27:14.221547Z"
    }
   },
   "outputs": [],
   "source": [
    "import os\n",
    "from dotenv import load_dotenv"
   ]
  },
  {
   "cell_type": "markdown",
   "id": "cd83854d-00ce-4d0e-bd8e-9244872d5377",
   "metadata": {},
   "source": [
    "**1）将环境变量写入 `.env` 文件**\n",
    "\n",
    "在当前目录新建 `.env`，将以下内容写入文件：\n",
    "\n",
    "```\n",
    "DB_HOST=localhost\n",
    "DB_PORT=5432\n",
    "DB_NAME=ecommerce_orders\n",
    "DB_USER=admin\n",
    "DB_PASSWORD=admin-password\n",
    "```\n",
    "\n",
    "**2）在 `.gitignore` 中添加 `.env` 文件**\n",
    "\n",
    "在项目根目录新建 `.gitignore` 文件，在该文件中新增一行：\n",
    "\n",
    "```\n",
    ".env\n",
    "```\n",
    "\n",
    "以避免敏感的配置上传到 Git 仓库中。\n",
    "\n",
    "**3）加载 `.env` 文件中的配置**"
   ]
  },
  {
   "cell_type": "code",
   "execution_count": 3,
   "id": "32367291-e119-4fb0-9cfa-830766ae9159",
   "metadata": {
    "execution": {
     "iopub.execute_input": "2025-06-07T06:27:14.226661Z",
     "iopub.status.busy": "2025-06-07T06:27:14.226567Z",
     "iopub.status.idle": "2025-06-07T06:27:14.231214Z",
     "shell.execute_reply": "2025-06-07T06:27:14.230895Z",
     "shell.execute_reply.started": "2025-06-07T06:27:14.226653Z"
    }
   },
   "outputs": [
    {
     "name": "stdout",
     "output_type": "stream",
     "text": [
      "用户名: admin\n",
      "密码: admin-password\n"
     ]
    }
   ],
   "source": [
    "# 加载.env文件中的环境变量\n",
    "load_dotenv()\n",
    "\n",
    "# 从环境变量中获取账号密码\n",
    "host = os.getenv('DB_HOST')\n",
    "port = os.getenv('DB_PORT')\n",
    "database = os.getenv('DB_NAME')\n",
    "user = os.getenv('DB_USER')\n",
    "password = os.getenv('DB_PASSWORD')\n",
    "\n",
    "# 打印获取到的账号密码\n",
    "print(f'用户名: {user}')\n",
    "print(f'密码: {password}')"
   ]
  },
  {
   "cell_type": "markdown",
   "id": "eb2f21b4-2562-4bdb-b96e-f87dbeb425c6",
   "metadata": {},
   "source": [
    "将环境变量写入 `config` 字典，也是一种通用的做法。"
   ]
  },
  {
   "cell_type": "code",
   "execution_count": 4,
   "id": "888178cf-dffb-4a09-8d49-e0adba102e7f",
   "metadata": {
    "execution": {
     "iopub.execute_input": "2025-06-07T06:27:14.231673Z",
     "iopub.status.busy": "2025-06-07T06:27:14.231522Z",
     "iopub.status.idle": "2025-06-07T06:27:14.233794Z",
     "shell.execute_reply": "2025-06-07T06:27:14.233392Z",
     "shell.execute_reply.started": "2025-06-07T06:27:14.231665Z"
    }
   },
   "outputs": [
    {
     "name": "stdout",
     "output_type": "stream",
     "text": [
      "数据库名: ecommerce_orders\n"
     ]
    }
   ],
   "source": [
    "config = {\n",
    "    \"host\": host,\n",
    "    \"port\": port,\n",
    "    \"database\": database,\n",
    "    \"user\": user,\n",
    "    \"password\": password\n",
    "}\n",
    "\n",
    "print(f'数据库名: {config[\"database\"]}')"
   ]
  },
  {
   "cell_type": "code",
   "execution_count": null,
   "id": "0201fb49-8d61-4ffb-8af5-77a971dab7a8",
   "metadata": {},
   "outputs": [],
   "source": []
  }
 ],
 "metadata": {
  "kernelspec": {
   "display_name": "Python 3 (ipykernel)",
   "language": "python",
   "name": "python3"
  },
  "language_info": {
   "codemirror_mode": {
    "name": "ipython",
    "version": 3
   },
   "file_extension": ".py",
   "mimetype": "text/x-python",
   "name": "python",
   "nbconvert_exporter": "python",
   "pygments_lexer": "ipython3",
   "version": "3.12.9"
  }
 },
 "nbformat": 4,
 "nbformat_minor": 5
}
