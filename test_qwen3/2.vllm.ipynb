{
 "cells": [
  {
   "cell_type": "markdown",
   "id": "88fa4af4-ff5b-41dc-b87f-b838e83e130b",
   "metadata": {},
   "source": [
    "## 安装 vllm 虚拟环境\n",
    "\n",
    "**1）为 qwen3 创建 vllm 虚拟环境，并绑定到 jupyterlab**\n",
    "\n",
    "```bash\n",
    "conda create --name qwen3_vllm python=3.12 -y\n",
    "conda activate qwen3_vllm\n",
    "\n",
    "python -m pip install ipykernel\n",
    "python -m ipykernel install --user --name qwen3_vllm --display-name \"Python (qwen3_vllm)\"\n",
    "```\n",
    "\n",
    "**2）安装 vLLM 及相关依赖**\n",
    "\n",
    "```bash\n",
    "pip install uv\n",
    "\n",
    "uv pip install vllm transformers accelerate ipywidgets\n",
    "```\n",
    "\n",
    "**3）验证 vllm 版本**\n",
    "\n",
    "```bash\n",
    "vllm --version\n",
    "```\n",
    "\n",
    "当前版本是：0.8.5"
   ]
  },
  {
   "cell_type": "markdown",
   "id": "ceb75e48-2f67-46c3-b73e-49f5c7b6d3c6",
   "metadata": {},
   "source": [
    "参考：\n",
    "\n",
    "- [luochang212/llm-deploy](https://github.com/luochang212/llm-deploy/blob/main/1.deepseek_deploy.ipynb)\n"
   ]
  },
  {
   "cell_type": "code",
   "execution_count": null,
   "id": "9908695d-c4ae-4dc5-a8da-ea74a6f3ac15",
   "metadata": {},
   "outputs": [],
   "source": []
  }
 ],
 "metadata": {
  "kernelspec": {
   "display_name": "Python 3 (ipykernel)",
   "language": "python",
   "name": "python3"
  },
  "language_info": {
   "codemirror_mode": {
    "name": "ipython",
    "version": 3
   },
   "file_extension": ".py",
   "mimetype": "text/x-python",
   "name": "python",
   "nbconvert_exporter": "python",
   "pygments_lexer": "ipython3",
   "version": "3.12.9"
  }
 },
 "nbformat": 4,
 "nbformat_minor": 5
}
