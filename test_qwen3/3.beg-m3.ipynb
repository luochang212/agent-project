{
 "cells": [
  {
   "cell_type": "markdown",
   "id": "7a3c23ab-d39b-4bcc-867e-548f075e29fb",
   "metadata": {},
   "source": [
    "## beg-m3 模型推理"
   ]
  },
  {
   "cell_type": "code",
   "execution_count": 1,
   "id": "9e48ee3d-a0be-40ad-8ec3-e51ce34520ed",
   "metadata": {
    "execution": {
     "iopub.execute_input": "2025-05-05T12:23:06.397067Z",
     "iopub.status.busy": "2025-05-05T12:23:06.396858Z",
     "iopub.status.idle": "2025-05-05T12:23:06.400883Z",
     "shell.execute_reply": "2025-05-05T12:23:06.400305Z",
     "shell.execute_reply.started": "2025-05-05T12:23:06.397044Z"
    }
   },
   "outputs": [],
   "source": [
    "# !pip install uv\n",
    "# !uv pip install -qU transformers fastapi uvicorn"
   ]
  },
  {
   "cell_type": "code",
   "execution_count": 2,
   "id": "0410496e-60cb-4220-b910-ba892050507a",
   "metadata": {
    "execution": {
     "iopub.execute_input": "2025-05-05T12:23:06.401624Z",
     "iopub.status.busy": "2025-05-05T12:23:06.401480Z",
     "iopub.status.idle": "2025-05-05T12:23:09.701733Z",
     "shell.execute_reply": "2025-05-05T12:23:09.701005Z",
     "shell.execute_reply.started": "2025-05-05T12:23:06.401612Z"
    }
   },
   "outputs": [],
   "source": [
    "import torch\n",
    "\n",
    "from transformers import AutoModel, AutoTokenizer\n",
    "\n",
    "MODEL_PATH = '../model/BAAI/bge-m3'"
   ]
  },
  {
   "cell_type": "code",
   "execution_count": 3,
   "id": "45d19b2b-c62a-4b5c-8b95-e2a9aedc36af",
   "metadata": {
    "execution": {
     "iopub.execute_input": "2025-05-05T12:23:09.703112Z",
     "iopub.status.busy": "2025-05-05T12:23:09.702828Z",
     "iopub.status.idle": "2025-05-05T12:24:02.064207Z",
     "shell.execute_reply": "2025-05-05T12:24:02.063606Z",
     "shell.execute_reply.started": "2025-05-05T12:23:09.703098Z"
    }
   },
   "outputs": [],
   "source": [
    "tokenizer = AutoTokenizer.from_pretrained(MODEL_PATH)\n",
    "model = AutoModel.from_pretrained(\n",
    "    MODEL_PATH,\n",
    "    torch_dtype=torch.float16,\n",
    "    device_map=\"cpu\" # auto cpu\n",
    ")"
   ]
  },
  {
   "cell_type": "code",
   "execution_count": 4,
   "id": "0e9a1e02-4190-4341-bbc1-b9b2b7e7c32f",
   "metadata": {
    "execution": {
     "iopub.execute_input": "2025-05-05T12:24:02.065039Z",
     "iopub.status.busy": "2025-05-05T12:24:02.064799Z",
     "iopub.status.idle": "2025-05-05T12:24:02.073996Z",
     "shell.execute_reply": "2025-05-05T12:24:02.073445Z",
     "shell.execute_reply.started": "2025-05-05T12:24:02.065029Z"
    }
   },
   "outputs": [],
   "source": [
    "prompt = '你好呀'\n",
    "inputs = tokenizer(prompt, return_tensors=\"pt\").to(model.device)"
   ]
  },
  {
   "cell_type": "code",
   "execution_count": 5,
   "id": "bc33a6b8-75df-46e1-aa7e-7792ecbbd3bf",
   "metadata": {
    "execution": {
     "iopub.execute_input": "2025-05-05T12:24:02.074622Z",
     "iopub.status.busy": "2025-05-05T12:24:02.074510Z",
     "iopub.status.idle": "2025-05-05T12:24:02.579307Z",
     "shell.execute_reply": "2025-05-05T12:24:02.578533Z",
     "shell.execute_reply.started": "2025-05-05T12:24:02.074613Z"
    }
   },
   "outputs": [
    {
     "data": {
      "text/plain": [
       "torch.Size([1, 1024])"
      ]
     },
     "execution_count": 5,
     "metadata": {},
     "output_type": "execute_result"
    }
   ],
   "source": [
    "with torch.no_grad():\n",
    "    outputs = model(**inputs)\n",
    "\n",
    "embeddings = outputs.last_hidden_state[:, 0, :]\n",
    "embeddings.shape"
   ]
  },
  {
   "cell_type": "code",
   "execution_count": null,
   "id": "e482c5ec-ea86-4739-99f9-ca27293332c4",
   "metadata": {},
   "outputs": [],
   "source": []
  }
 ],
 "metadata": {
  "kernelspec": {
   "display_name": "Python 3 (ipykernel)",
   "language": "python",
   "name": "python3"
  },
  "language_info": {
   "codemirror_mode": {
    "name": "ipython",
    "version": 3
   },
   "file_extension": ".py",
   "mimetype": "text/x-python",
   "name": "python",
   "nbconvert_exporter": "python",
   "pygments_lexer": "ipython3",
   "version": "3.12.9"
  }
 },
 "nbformat": 4,
 "nbformat_minor": 5
}
