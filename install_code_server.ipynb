{
 "cells": [
  {
   "cell_type": "markdown",
   "id": "389a7bcc",
   "metadata": {},
   "source": [
    "## Ubuntu 系统安装 `code-server`\n",
    "\n",
    "[code-server](https://github.com/coder/code-server) 是服务器版的 VSCode。比起 jupyter lab，code-server 更适合对项目级的代码进行开发和管理。\n",
    "\n",
    "**1）安装脚本**\n",
    "\n",
    "```bash\n",
    "curl -fsSL https://code-server.dev/install.sh | sh\n",
    "```\n",
    "\n",
    "**2）启动服务**\n",
    "\n",
    "安装完成后，运行以下命令在后台启动 code-server 服务：\n",
    "\n",
    "```bash\n",
    "code-server\n",
    "```\n",
    "\n",
    "> 注：如无额外配置，服务在默认地址开启：[http://127.0.0.1:8080](http://127.0.0.1:8080)\n",
    "\n",
    "**3）获取密码**\n",
    "\n",
    "初次进入需要密码，在 terminal 运行以下命令打印密码：\n",
    "\n",
    "```bash\n",
    "cat ~/.config/code-server/config.yaml\n",
    "```"
   ]
  }
 ],
 "metadata": {
  "language_info": {
   "name": "python"
  }
 },
 "nbformat": 4,
 "nbformat_minor": 5
}
