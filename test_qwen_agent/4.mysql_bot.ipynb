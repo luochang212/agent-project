{
 "cells": [
  {
   "cell_type": "markdown",
   "id": "69aad287-f79d-4ea3-ae2a-8b5e3f3e4bf3",
   "metadata": {},
   "source": [
    "## 通过 Qwen Agent 操作 MySQL 数据库\n",
    "\n",
    "[servers](https://github.com/modelcontextprotocol/servers) 没有提供官方 MySQL MCP Server 实现，我们用社区实现的版本 [designcomputer/mysql_mcp_server](https://github.com/designcomputer/mysql_mcp_server)。\n",
    "\n",
    "### 一、安装 MySQL 数据库\n",
    "\n",
    "在 Ubuntu 系统安装 MySQL 的过程如下：\n",
    "\n",
    "**1）更新系统包列表**\n",
    "\n",
    "```bash\n",
    "sudo apt update\n",
    "```\n",
    "\n",
    "**2）安装 MySQL**\n",
    "\n",
    "```bash\n",
    "sudo apt install mysql-server\n",
    "```\n",
    "\n",
    "**3）运行安全配置向导**\n",
    "\n",
    "运行以下脚本以启动安全配置向导：\n",
    "\n",
    "```bash\n",
    "sudo mysql_secure_installation\n",
    "```\n",
    "\n",
    "> `mysql_secure_installation` 是一个用于增强 MySQL 安全性的脚本。它会引导你完成一系列安全设置，解决安装新数据库的安全风险。\n",
    "\n",
    "**4）启动 MySQL 服务**\n",
    "\n",
    "```bash\n",
    "# 启动 MySQL 服务\n",
    "sudo systemctl start mysql\n",
    "\n",
    "# 允许 MySQL 在启动时自动启动\n",
    "sudo systemctl enable mysql\n",
    "```\n",
    "\n",
    "**5）检查 MySQL 状态**\n",
    "\n",
    "```bash\n",
    "sudo systemctl status mysql\n",
    "```\n",
    "\n",
    "**6）连接到 MySQL**\n",
    "\n",
    "以 root 用户身份登录 MySQL：\n",
    "\n",
    "```bash\n",
    "sudo mysql -u root -p\n",
    "```\n",
    "\n",
    "创建新用户：\n",
    "\n",
    "```mysql\n",
    "CREATE USER 'username'@'localhost' IDENTIFIED BY 'password';\n",
    "GRANT ALL PRIVILEGES ON *.* TO 'username'@'localhost' WITH GRANT OPTION;\n",
    "FLUSH PRIVILEGES;\n",
    "EXIT;\n",
    "```\n",
    "\n",
    "配置文件位于 `/etc/mysql/mysql.conf.d/mysqld.cnf`，可以修改 port, bind-address, buffer sizes 等设置。修改配置后，重启 MySQL：\n",
    "\n",
    "```bash\n",
    "sudo systemctl restart mysql\n",
    "```"
   ]
  },
  {
   "cell_type": "markdown",
   "id": "30566468-cc2e-4693-aa03-04c83eae746d",
   "metadata": {},
   "source": [
    "### 二、添加样例数据 \n",
    "\n",
    "```mysql\n",
    "-- 创建新数据库\n",
    "CREATE DATABASE score;\n",
    "\n",
    "-- 创建新用户\n",
    "CREATE USER 'admin'@'localhost' IDENTIFIED BY 'admin-password';\n",
    "\n",
    "-- 授予用户\n",
    "GRANT ALL PRIVILEGES ON score.* TO 'admin'@'localhost' WITH GRANT OPTION;\n",
    "FLUSH PRIVILEGES;\n",
    "\n",
    "-- 切换数据库\n",
    "USE score;\n",
    "\n",
    "-- 创建学生表（包含表注释和字段注释）\n",
    "CREATE TABLE students (\n",
    "    id INT AUTO_INCREMENT PRIMARY KEY,\n",
    "    name VARCHAR(50) COMMENT '学生姓名',\n",
    "    class VARCHAR(20) COMMENT '班级名称',\n",
    "    gpa DECIMAL(3,1) COMMENT '学生绩点'\n",
    ") COMMENT '存储学生信息的表';\n",
    "\n",
    "-- 检查表是否成功创建\n",
    "DESC score.students;\n",
    "\n",
    "-- 插入 20 条样例数据\n",
    "INSERT INTO students (name, class, gpa) VALUES\n",
    "('张三', 'Class 1', 3.8),\n",
    "('李四', 'Class 1', 3.5),\n",
    "('王五', 'Class 1', 3.2),\n",
    "('赵六', 'Class 1', 4.0),\n",
    "('张万福', 'Class 2', 3.6),  -- 姓氏重叠示例\n",
    "('钱七', 'Class 2', 2.8),\n",
    "('李四', 'Class 2', 3.4),\n",
    "('孙八', 'Class 2', 3.9),\n",
    "('周九', 'Class 2', 3.1),\n",
    "('吴十', 'Class 3', 2.5),\n",
    "('王九幽', 'Class 3', 3.7),  -- 姓氏重叠示例\n",
    "('郑十一', 'Class 3', 4.0),\n",
    "('冯十二', 'Class 3', 3.3),\n",
    "('陈十三', 'Class 3', 2.9),\n",
    "('褚十四', 'Class 1', 3.5),\n",
    "('卫十五', 'Class 2', 3.0),\n",
    "('蒋十六', 'Class 3', 3.8),\n",
    "('沈十七', 'Class 1', 2.7),\n",
    "('韩十八', 'Class 2', 3.6),\n",
    "('杨十九', 'Class 3', 3.2);\n",
    "\n",
    "-- 检查数据是否成功插入\n",
    "SELECT * FROM score.students;\n",
    "```"
   ]
  },
  {
   "cell_type": "markdown",
   "id": "efd56ffc-ce74-4d54-8024-333ae30c8d25",
   "metadata": {},
   "source": [
    "### 三、Python 连接 MySQL\n",
    "\n",
    "\n"
   ]
  },
  {
   "cell_type": "code",
   "execution_count": 1,
   "id": "0b8e4b39-f2b9-4b4e-9cd8-58fda8973260",
   "metadata": {
    "execution": {
     "iopub.execute_input": "2025-05-26T06:49:57.277626Z",
     "iopub.status.busy": "2025-05-26T06:49:57.276833Z",
     "iopub.status.idle": "2025-05-26T06:49:57.298823Z",
     "shell.execute_reply": "2025-05-26T06:49:57.297909Z",
     "shell.execute_reply.started": "2025-05-26T06:49:57.277577Z"
    }
   },
   "outputs": [],
   "source": [
    "# !uv pip install mysql-connector-python"
   ]
  },
  {
   "cell_type": "code",
   "execution_count": 3,
   "id": "65481a83-ec99-4263-96ea-086b75bfdfaf",
   "metadata": {
    "execution": {
     "iopub.execute_input": "2025-05-26T06:50:48.961941Z",
     "iopub.status.busy": "2025-05-26T06:50:48.960935Z",
     "iopub.status.idle": "2025-05-26T06:50:48.995558Z",
     "shell.execute_reply": "2025-05-26T06:50:48.994871Z",
     "shell.execute_reply.started": "2025-05-26T06:50:48.961914Z"
    }
   },
   "outputs": [
    {
     "name": "stdout",
     "output_type": "stream",
     "text": [
      "Successfully connected to MySQL\n",
      "[(1, '张三', 'Class 1', Decimal('3.8')), (2, '李四', 'Class 1', Decimal('3.5')), (3, '王五', 'Class 1', Decimal('3.2')), (4, '赵六', 'Class 1', Decimal('4.0')), (5, '张万福', 'Class 2', Decimal('3.6')), (6, '钱七', 'Class 2', Decimal('2.8')), (7, '李四', 'Class 2', Decimal('3.4')), (8, '孙八', 'Class 2', Decimal('3.9')), (9, '周九', 'Class 2', Decimal('3.1')), (10, '吴十', 'Class 3', Decimal('2.5')), (11, '王九幽', 'Class 3', Decimal('3.7')), (12, '郑十一', 'Class 3', Decimal('4.0')), (13, '冯十二', 'Class 3', Decimal('3.3')), (14, '陈十三', 'Class 3', Decimal('2.9')), (15, '褚十四', 'Class 1', Decimal('3.5')), (16, '卫十五', 'Class 2', Decimal('3.0')), (17, '蒋十六', 'Class 3', Decimal('3.8')), (18, '沈十七', 'Class 1', Decimal('2.7')), (19, '韩十八', 'Class 2', Decimal('3.6')), (20, '杨十九', 'Class 3', Decimal('3.2'))]\n",
      "MySQL connection closed\n"
     ]
    }
   ],
   "source": [
    "import mysql.connector\n",
    "from mysql.connector import Error\n",
    "\n",
    "try:\n",
    "    # Establish connection\n",
    "    connection = mysql.connector.connect(\n",
    "        host='localhost',\n",
    "        database='score',\n",
    "        user='admin',\n",
    "        password='admin-password',\n",
    "        port=3306\n",
    "    )\n",
    "\n",
    "    if connection.is_connected():\n",
    "        print(\"Successfully connected to MySQL\")\n",
    "\n",
    "        # Create cursor object\n",
    "        cursor = connection.cursor()\n",
    "\n",
    "        # Execute query\n",
    "        query = (\n",
    "            \"SELECT *\"\n",
    "            \"FROM score.students\"\n",
    "        )\n",
    "        cursor.execute(query)\n",
    "        record = cursor.fetchall()\n",
    "        print(f\"{record}\")\n",
    "\n",
    "except Error as e:\n",
    "    print(f\"Error: {e}\")\n",
    "\n",
    "finally:\n",
    "    # Close connections\n",
    "    if connection.is_connected():\n",
    "        cursor.close()\n",
    "        connection.close()\n",
    "        print(\"MySQL connection closed\")\n"
   ]
  },
  {
   "cell_type": "markdown",
   "id": "a6967e62-fa50-48ab-8859-7c3322096326",
   "metadata": {},
   "source": [
    "### 四、MCP 调用 MySQL\n",
    "\n",
    "运行代码前，需要确保 LLM 和 PostgreSQL 正常运行。\n",
    "\n",
    "要启动 LLM 服务，来到项目根目录运行：\n",
    "\n",
    "```bash\n",
    "cd test_qwen3\n",
    "bash vllm_server.sh\n",
    "```"
   ]
  },
  {
   "cell_type": "code",
   "execution_count": 4,
   "id": "ffa113e6-587a-4f28-a564-3ce1e510beb5",
   "metadata": {
    "execution": {
     "iopub.execute_input": "2025-05-26T07:05:52.662781Z",
     "iopub.status.busy": "2025-05-26T07:05:52.662137Z",
     "iopub.status.idle": "2025-05-26T07:05:57.646355Z",
     "shell.execute_reply": "2025-05-26T07:05:57.645820Z",
     "shell.execute_reply.started": "2025-05-26T07:05:52.662752Z"
    }
   },
   "outputs": [],
   "source": [
    "from qwen_agent.agents import Assistant\n",
    "from qwen_agent.gui import WebUI\n",
    "\n",
    "def init_agent_service():\n",
    "    llm_cfg = {\n",
    "        'model': 'Qwen3-0.6B-FP8',\n",
    "        'model_server': 'http://localhost:8000/v1',\n",
    "        'api_key': 'token-kcgyrk',\n",
    "        'generate_cfg': {\n",
    "            'top_p': 0.95,\n",
    "            'temperature': 0.6,\n",
    "        }\n",
    "    }\n",
    "    system = ('你扮演一个数据库助手，你具有查询数据库的能力')\n",
    "    tools = [{\n",
    "      \"mcpServers\": {\n",
    "        \"mysql\": {\n",
    "          \"type\": \"stdio\",\n",
    "          \"command\": \"uvx\",\n",
    "          \"args\": [\n",
    "              \"--from\",\n",
    "              \"mysql-mcp-server\",\n",
    "              \"mysql_mcp_server\"\n",
    "          ],\n",
    "          \"env\": {\n",
    "            \"MYSQL_HOST\": \"localhost\",\n",
    "            \"MYSQL_PORT\": \"3306\",\n",
    "            \"MYSQL_USER\": \"admin\",\n",
    "            \"MYSQL_PASSWORD\": \"admin-password\",\n",
    "            \"MYSQL_DATABASE\": \"score\"\n",
    "          }\n",
    "        }\n",
    "      }\n",
    "    }]\n",
    "    bot = Assistant(\n",
    "        llm=llm_cfg,\n",
    "        name='数据库助手',\n",
    "        description='数据库查询',\n",
    "        system_message=system,\n",
    "        function_list=tools,\n",
    "    )\n",
    "\n",
    "    return bot"
   ]
  },
  {
   "cell_type": "code",
   "execution_count": 5,
   "id": "19d843f5-9590-4f6c-ae30-95655a94698d",
   "metadata": {
    "execution": {
     "iopub.execute_input": "2025-05-26T07:05:57.647234Z",
     "iopub.status.busy": "2025-05-26T07:05:57.646947Z",
     "iopub.status.idle": "2025-05-26T07:06:43.010248Z",
     "shell.execute_reply": "2025-05-26T07:06:43.009322Z",
     "shell.execute_reply.started": "2025-05-26T07:05:57.647223Z"
    }
   },
   "outputs": [
    {
     "name": "stderr",
     "output_type": "stream",
     "text": [
      "2025-05-26 15:05:57,815 - mcp_manager.py - 110 - INFO - Initializing MCP tools from mcp servers: ['mysql']\n",
      "2025-05-26 15:05:57,837 - mcp_manager.py - 245 - INFO - Initializing a MCP stdio_client, if this takes forever, please check the config of this mcp server: mysql\n"
     ]
    }
   ],
   "source": [
    "# 初始化 Agent\n",
    "bot = init_agent_service()"
   ]
  },
  {
   "cell_type": "code",
   "execution_count": 6,
   "id": "d2b784e3-43ae-4716-8e3c-301fef67c77e",
   "metadata": {
    "execution": {
     "iopub.execute_input": "2025-05-26T07:06:43.011798Z",
     "iopub.status.busy": "2025-05-26T07:06:43.011297Z",
     "iopub.status.idle": "2025-05-26T07:06:48.826953Z",
     "shell.execute_reply": "2025-05-26T07:06:48.826446Z",
     "shell.execute_reply.started": "2025-05-26T07:06:43.011776Z"
    }
   },
   "outputs": [
    {
     "name": "stdout",
     "output_type": "stream",
     "text": [
      "bot response: [{'role': 'assistant', 'content': '', 'reasoning_content': \"\\n好的，用户需要查询所有王姓同学的GPA平均分。首先，我需要确定如何用MySQL来执行这个查询。用户提供的工具中有一个mysql-execute_sql函数，可以执行SQL查询。所以，我应该用这个函数来执行相应的SQL语句。\\n\\n接下来，我需要构造正确的SQL查询。用户要求的是所有王姓同学的GPA平均分。这里需要注意，可能需要使用GROUP BY来处理姓氏，但用户的问题中没有提到分组，所以可能直接查询所有王姓学生。不过，通常在数据库中，如果只是查找特定姓氏的记录，可能不需要分组，但为了准确，可能需要加上GROUP BY。但用户的问题比较笼统，直接查询所有王姓学生是否更合适。或者，可能需要考虑是否应该按姓氏分组，但如果没有分组，可能直接查询所有王姓学生的记录，然后计算平均分。因此，正确的SQL应该是SELECT AVG(gpa) FROM students WHERE name LIKE '王%'; 这样就能得到所有王姓学生的平均GPA。\\n\\n然后，我需要确认是否需要使用GROUP BY，但这里可能不需要，因为只需要所有记录的平均值。因此，调用mysql-execute_sql函数，传入这个查询语句。确保参数正确，没有语法错误。最后，返回工具调用的JSON结构。\\n\", 'name': '数据库助手'}, {'role': 'assistant', 'content': '', 'name': '数据库助手', 'function_call': {'name': 'mysql-execute_sql', 'arguments': '{\"query\": \"SELECT AVG(gpa) AS average_gpa FROM students WHERE name LIKE \\'王%\\'\"}'}}, {'role': 'function', 'content': 'average_gpa\\n3.45000', 'name': 'mysql-execute_sql'}, {'role': 'assistant', 'content': '', 'reasoning_content': '\\n好的，用户之前让我查询所有王姓同学的GPA平均分，我执行了SQL语句，得到了结果3.45。现在用户可能需要进一步的解释或者确认这个结果是否正确。我需要检查是否有其他参数或可能的错误，但根据之前的回复，结果正确。所以应该回复结果，并询问是否需要更多帮助。\\n', 'name': '数据库助手'}, {'role': 'assistant', 'content': '\\n\\n王姓同学的GPA平均分为3.45。请确认是否需要进一步查询其他信息或有其他问题。', 'name': '数据库助手'}]\n"
     ]
    }
   ],
   "source": [
    "query = '查询所有王姓同学的GPA平均分'\n",
    "messages = [{'role': 'user', 'content': query}]\n",
    "\n",
    "# 输出\n",
    "response = bot.run_nonstream(messages)\n",
    "print('bot response:', response)"
   ]
  },
  {
   "cell_type": "code",
   "execution_count": 7,
   "id": "f1881d6b-b048-47da-95e3-511a07e6b95d",
   "metadata": {
    "execution": {
     "iopub.execute_input": "2025-05-26T07:07:35.022023Z",
     "iopub.status.busy": "2025-05-26T07:07:35.021488Z",
     "iopub.status.idle": "2025-05-26T07:07:35.027525Z",
     "shell.execute_reply": "2025-05-26T07:07:35.026380Z",
     "shell.execute_reply.started": "2025-05-26T07:07:35.021985Z"
    }
   },
   "outputs": [
    {
     "name": "stdout",
     "output_type": "stream",
     "text": [
      "result: 王姓同学的GPA平均分为3.45。请确认是否需要进一步查询其他信息或有其他问题。\n"
     ]
    }
   ],
   "source": [
    "print('result:', response[-1]['content'].strip())"
   ]
  },
  {
   "cell_type": "code",
   "execution_count": null,
   "id": "da02d029-251a-4cb5-96f0-1ab4d74f976b",
   "metadata": {},
   "outputs": [],
   "source": []
  }
 ],
 "metadata": {
  "kernelspec": {
   "display_name": "Python 3 (ipykernel)",
   "language": "python",
   "name": "python3"
  },
  "language_info": {
   "codemirror_mode": {
    "name": "ipython",
    "version": 3
   },
   "file_extension": ".py",
   "mimetype": "text/x-python",
   "name": "python",
   "nbconvert_exporter": "python",
   "pygments_lexer": "ipython3",
   "version": "3.12.9"
  }
 },
 "nbformat": 4,
 "nbformat_minor": 5
}
