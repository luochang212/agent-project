{
 "cells": [
  {
   "cell_type": "markdown",
   "id": "29562c1e-a43a-4349-81e0-78b591b79f2d",
   "metadata": {},
   "source": [
    "## 模型编排\n",
    "\n",
    "模型编排范式：\n",
    "\n",
    "|范式|核心理念|技术实现难点|\n",
    "| -- | -- | -- |\n",
    "|Handoffs|多智能体协作，上下文无缝传递|上下文一致性维护|\n",
    "|动态路由|实时适配任务需求|状态机逻辑复杂度管理|\n",
    "|任务分解|模块化任务分配|子任务间的协调与边界划分|\n",
    "|任务收束|聚合多个任务结果|剔除与问题无关的上下文|\n",
    "\n",
    "\n",
    "模型编排的例子：\n",
    "\n",
    "- 群聊模式：\n",
    "    - [group_chat_demo.py](https://github.com/QwenLM/Qwen-Agent/blob/main/examples/group_chat_demo.py)\n",
    "    - [group_chat_chess.py](https://github.com/QwenLM/Qwen-Agent/blob/main/examples/group_chat_chess.py)\n",
    "- 智能体路由：\n",
    "    - [multi_agent_router.py](https://github.com/QwenLM/Qwen-Agent/blob/main/examples/multi_agent_router.py)\n"
   ]
  },
  {
   "cell_type": "code",
   "execution_count": null,
   "id": "17cf0c8a-b9dc-44ce-af2c-0ced57266823",
   "metadata": {},
   "outputs": [],
   "source": []
  }
 ],
 "metadata": {
  "kernelspec": {
   "display_name": "Python 3 (ipykernel)",
   "language": "python",
   "name": "python3"
  },
  "language_info": {
   "codemirror_mode": {
    "name": "ipython",
    "version": 3
   },
   "file_extension": ".py",
   "mimetype": "text/x-python",
   "name": "python",
   "nbconvert_exporter": "python",
   "pygments_lexer": "ipython3",
   "version": "3.12.9"
  }
 },
 "nbformat": 4,
 "nbformat_minor": 5
}
