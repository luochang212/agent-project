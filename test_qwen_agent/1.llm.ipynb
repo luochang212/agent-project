{
 "cells": [
  {
   "cell_type": "markdown",
   "id": "0b9cce49-32f5-47ef-a06e-6bba0e4db72b",
   "metadata": {},
   "source": [
    "## 使用 `qwen_agent.llm` 作为 llm 客户端\n",
    "\n",
    "参考：[LLM 介绍](https://github.com/QwenLM/Qwen-Agent/blob/main/docs/llm_cn.md)"
   ]
  },
  {
   "cell_type": "code",
   "execution_count": 1,
   "id": "e94d1baf",
   "metadata": {
    "execution": {
     "iopub.execute_input": "2025-05-18T07:51:10.176663Z",
     "iopub.status.busy": "2025-05-18T07:51:10.176382Z",
     "iopub.status.idle": "2025-05-18T07:51:10.183126Z",
     "shell.execute_reply": "2025-05-18T07:51:10.181431Z",
     "shell.execute_reply.started": "2025-05-18T07:51:10.176640Z"
    }
   },
   "outputs": [],
   "source": [
    "# !uv pip install -U \"qwen-agent[gui,rag,code_interpreter,mcp]\""
   ]
  },
  {
   "cell_type": "code",
   "execution_count": 2,
   "id": "14a783b7",
   "metadata": {
    "execution": {
     "iopub.execute_input": "2025-05-18T07:51:10.184051Z",
     "iopub.status.busy": "2025-05-18T07:51:10.183859Z",
     "iopub.status.idle": "2025-05-18T07:51:10.574029Z",
     "shell.execute_reply": "2025-05-18T07:51:10.572835Z",
     "shell.execute_reply.started": "2025-05-18T07:51:10.184034Z"
    }
   },
   "outputs": [],
   "source": [
    "from qwen_agent.llm import get_chat_model"
   ]
  },
  {
   "cell_type": "code",
   "execution_count": 3,
   "id": "1a1c985f",
   "metadata": {
    "execution": {
     "iopub.execute_input": "2025-05-18T07:51:10.575332Z",
     "iopub.status.busy": "2025-05-18T07:51:10.575028Z",
     "iopub.status.idle": "2025-05-18T07:51:10.597016Z",
     "shell.execute_reply": "2025-05-18T07:51:10.596252Z",
     "shell.execute_reply.started": "2025-05-18T07:51:10.575314Z"
    }
   },
   "outputs": [],
   "source": [
    "llm_cfg = {\n",
    "    'model': 'Qwen3-0.6B-FP8',\n",
    "    'model_server': 'http://localhost:8000/v1',\n",
    "    'api_key': 'token-kcgyrk',\n",
    "    'generate_cfg': {\n",
    "        'top_p': 0.95,\n",
    "        'temperature': 0.6,\n",
    "    }\n",
    "}\n",
    "llm = get_chat_model(llm_cfg)"
   ]
  },
  {
   "cell_type": "code",
   "execution_count": 4,
   "id": "e27c26d2",
   "metadata": {
    "execution": {
     "iopub.execute_input": "2025-05-18T07:51:10.597607Z",
     "iopub.status.busy": "2025-05-18T07:51:10.597461Z",
     "iopub.status.idle": "2025-05-18T07:51:10.609797Z",
     "shell.execute_reply": "2025-05-18T07:51:10.608989Z",
     "shell.execute_reply.started": "2025-05-18T07:51:10.597596Z"
    }
   },
   "outputs": [],
   "source": [
    "# ??get_chat_model"
   ]
  },
  {
   "cell_type": "code",
   "execution_count": 5,
   "id": "9c3dd471",
   "metadata": {
    "execution": {
     "iopub.execute_input": "2025-05-18T07:51:10.610958Z",
     "iopub.status.busy": "2025-05-18T07:51:10.610488Z",
     "iopub.status.idle": "2025-05-18T07:51:27.364617Z",
     "shell.execute_reply": "2025-05-18T07:51:27.363778Z",
     "shell.execute_reply.started": "2025-05-18T07:51:10.610940Z"
    }
   },
   "outputs": [],
   "source": [
    "messages = [{\n",
    "    'role': 'user',\n",
    "    'content': \"番茄炒鸡蛋的制作过程\"\n",
    "}]\n",
    "\n",
    "response = llm.chat(messages=messages, stream=False)"
   ]
  },
  {
   "cell_type": "code",
   "execution_count": 6,
   "id": "6f04b5c3",
   "metadata": {
    "execution": {
     "iopub.execute_input": "2025-05-18T07:51:27.366671Z",
     "iopub.status.busy": "2025-05-18T07:51:27.366095Z",
     "iopub.status.idle": "2025-05-18T07:51:27.375235Z",
     "shell.execute_reply": "2025-05-18T07:51:27.374240Z",
     "shell.execute_reply.started": "2025-05-18T07:51:27.366646Z"
    }
   },
   "outputs": [
    {
     "data": {
      "text/plain": [
       "dict_keys(['role', 'content', 'reasoning_content'])"
      ]
     },
     "execution_count": 6,
     "metadata": {},
     "output_type": "execute_result"
    }
   ],
   "source": [
    "response[0].keys()"
   ]
  },
  {
   "cell_type": "code",
   "execution_count": 7,
   "id": "623b16e1",
   "metadata": {
    "execution": {
     "iopub.execute_input": "2025-05-18T07:51:27.376612Z",
     "iopub.status.busy": "2025-05-18T07:51:27.376389Z",
     "iopub.status.idle": "2025-05-18T07:51:27.384568Z",
     "shell.execute_reply": "2025-05-18T07:51:27.383939Z",
     "shell.execute_reply.started": "2025-05-18T07:51:27.376596Z"
    }
   },
   "outputs": [
    {
     "name": "stdout",
     "output_type": "stream",
     "text": [
      "\n",
      "嗯，用户问的是番茄炒鸡蛋的制作过程。首先，我需要确定用户的需求是什么。可能他们想了解基本的做法，或者想要一些改进的步骤。也有可能他们是在寻找食谱的详细步骤，或者对某些地方的做法有疑问。\n",
      "\n",
      "接下来，我得考虑用户的身份。如果是学生，可能需要结构化的步骤；如果是家庭主妇，可能更注重安全和简单。用户可能没有明确说明，但通常这类问题会希望得到清晰、可操作的指导。\n",
      "\n",
      "然后，我需要回忆番茄炒鸡蛋的基本步骤。通常包括准备食材、炒制步骤、调味等。可能需要检查是否有遗漏的部分，比如是否需要先炒鸡蛋再加番茄，或者是否需要加入其他配料。另外，用户可能关心是否需要使用油盐酱汁，或者是否要加入其他调味品。\n",
      "\n",
      "还要考虑用户可能的深层需求。他们可能希望步骤简单，不需要太多时间，或者希望有创意的变种。比如，是否要加入蔬菜，或者调整酱汁的浓稠度。需要确保回答涵盖这些方面，同时保持信息的准确性和实用性。\n",
      "\n",
      "最后，要确保回答简洁明了，分步骤说明，可能还要提醒注意事项，比如火候控制，避免鸡蛋过老，或者调味的合适比例。这样用户不仅能得到步骤，还能知道如何优化烹饪效果。\n",
      "\n"
     ]
    }
   ],
   "source": [
    "print(response[0].get('reasoning_content'))"
   ]
  },
  {
   "cell_type": "code",
   "execution_count": 8,
   "id": "60e14f68",
   "metadata": {
    "execution": {
     "iopub.execute_input": "2025-05-18T07:51:27.385160Z",
     "iopub.status.busy": "2025-05-18T07:51:27.385017Z",
     "iopub.status.idle": "2025-05-18T07:51:27.393648Z",
     "shell.execute_reply": "2025-05-18T07:51:27.392662Z",
     "shell.execute_reply.started": "2025-05-18T07:51:27.385148Z"
    }
   },
   "outputs": [
    {
     "name": "stdout",
     "output_type": "stream",
     "text": [
      "\n",
      "\n",
      "以下是番茄炒鸡蛋的制作步骤，确保简单、安全且美味：\n",
      "\n",
      "---\n",
      "\n",
      "### **食材准备：**\n",
      "- 番茄2个（或罐装方便）\n",
      "- 鸡蛋2个（或打散鸡蛋）\n",
      "- 姜片（可选，增加风味）\n",
      "- 盐、糖、香油、辣椒粉、蒜末（可选）\n",
      "- 橄榄油（用于炒制）\n",
      "\n",
      "---\n",
      "\n",
      "### **制作步骤：**\n",
      "\n",
      "1. **准备食材：**\n",
      "   - 番茄洗净，切块备用。\n",
      "   - 鸡蛋打散，加盐、糖调味，搅拌均匀备用。\n",
      "\n",
      "2. **炒鸡蛋：**\n",
      "   - 热锅加油，倒入鸡蛋，用中火炒至蛋液金黄散开。\n",
      "   - 倒入适量盐、糖、香油、辣椒粉、蒜末等调味料，炒香后盛出。\n",
      "\n",
      "3. **炒番茄：**\n",
      "   - 热锅再加油，放入番茄块，翻炒至番茄变软出水。\n",
      "   - 加入炒好的鸡蛋，快速翻炒均匀。\n",
      "\n",
      "4. **混合与出锅：**\n",
      "   - 最后撒上少许盐，即可出锅。可根据口味加醋或辣椒。\n",
      "\n",
      "---\n",
      "\n",
      "### **小贴士：**\n",
      "- **火候控制**：鸡蛋炒至金黄后盛出，避免过老。\n",
      "- **调味**：加少许醋提味，或辣椒粉增加风味。\n",
      "- **创意变种**：可加胡萝卜、洋葱、豆腐等蔬菜，或用酱汁代替蛋液。\n",
      "\n",
      "希望你喜欢这个简单又美味的番茄炒鸡蛋！如果需要调整口味或保存方式，也可以告诉我哦！\n"
     ]
    }
   ],
   "source": [
    "print(response[0].get('content'))"
   ]
  },
  {
   "cell_type": "code",
   "execution_count": null,
   "id": "e51dac78",
   "metadata": {},
   "outputs": [],
   "source": []
  }
 ],
 "metadata": {
  "kernelspec": {
   "display_name": "Python 3 (ipykernel)",
   "language": "python",
   "name": "python3"
  },
  "language_info": {
   "codemirror_mode": {
    "name": "ipython",
    "version": 3
   },
   "file_extension": ".py",
   "mimetype": "text/x-python",
   "name": "python",
   "nbconvert_exporter": "python",
   "pygments_lexer": "ipython3",
   "version": "3.12.9"
  }
 },
 "nbformat": 4,
 "nbformat_minor": 5
}
