{
 "cells": [
  {
   "cell_type": "markdown",
   "id": "0b9cce49-32f5-47ef-a06e-6bba0e4db72b",
   "metadata": {},
   "source": [
    "## 使用 `qwen_agent.llm` 作为 llm 客户端\n",
    "\n",
    "参考：[LLM 介绍](https://github.com/QwenLM/Qwen-Agent/blob/main/docs/llm_cn.md)"
   ]
  },
  {
   "cell_type": "code",
   "execution_count": 1,
   "id": "e94d1baf",
   "metadata": {
    "execution": {
     "iopub.execute_input": "2025-05-15T10:04:12.026067Z",
     "iopub.status.busy": "2025-05-15T10:04:12.025776Z",
     "iopub.status.idle": "2025-05-15T10:04:12.029027Z",
     "shell.execute_reply": "2025-05-15T10:04:12.028352Z",
     "shell.execute_reply.started": "2025-05-15T10:04:12.026053Z"
    }
   },
   "outputs": [],
   "source": [
    "# !uv pip install -U \"qwen-agent[gui,rag,code_interpreter,mcp]\""
   ]
  },
  {
   "cell_type": "code",
   "execution_count": 2,
   "id": "14a783b7",
   "metadata": {
    "execution": {
     "iopub.execute_input": "2025-05-15T10:04:12.029829Z",
     "iopub.status.busy": "2025-05-15T10:04:12.029663Z",
     "iopub.status.idle": "2025-05-15T10:04:13.035832Z",
     "shell.execute_reply": "2025-05-15T10:04:13.035382Z",
     "shell.execute_reply.started": "2025-05-15T10:04:12.029814Z"
    }
   },
   "outputs": [],
   "source": [
    "from qwen_agent.llm import get_chat_model"
   ]
  },
  {
   "cell_type": "code",
   "execution_count": 3,
   "id": "1a1c985f",
   "metadata": {
    "execution": {
     "iopub.execute_input": "2025-05-15T10:04:13.036547Z",
     "iopub.status.busy": "2025-05-15T10:04:13.036344Z",
     "iopub.status.idle": "2025-05-15T10:04:13.041320Z",
     "shell.execute_reply": "2025-05-15T10:04:13.040723Z",
     "shell.execute_reply.started": "2025-05-15T10:04:13.036537Z"
    }
   },
   "outputs": [],
   "source": [
    "llm_cfg = {\n",
    "    'model': 'Qwen3-0.6B-FP8',\n",
    "    'model_server': 'http://localhost:8000/v1',\n",
    "    'api_key': 'token-kcgyrk',\n",
    "    'generate_cfg': {\n",
    "        'top_p': 0.95,\n",
    "        'temperature': 0.6,\n",
    "    }\n",
    "}\n",
    "llm = get_chat_model(llm_cfg)"
   ]
  },
  {
   "cell_type": "code",
   "execution_count": 4,
   "id": "e27c26d2",
   "metadata": {
    "execution": {
     "iopub.execute_input": "2025-05-15T10:04:13.042175Z",
     "iopub.status.busy": "2025-05-15T10:04:13.041934Z",
     "iopub.status.idle": "2025-05-15T10:04:13.045082Z",
     "shell.execute_reply": "2025-05-15T10:04:13.044479Z",
     "shell.execute_reply.started": "2025-05-15T10:04:13.042163Z"
    }
   },
   "outputs": [],
   "source": [
    "# ??get_chat_model"
   ]
  },
  {
   "cell_type": "code",
   "execution_count": 5,
   "id": "9c3dd471",
   "metadata": {
    "execution": {
     "iopub.execute_input": "2025-05-15T10:04:13.045779Z",
     "iopub.status.busy": "2025-05-15T10:04:13.045637Z",
     "iopub.status.idle": "2025-05-15T10:04:19.428059Z",
     "shell.execute_reply": "2025-05-15T10:04:19.427651Z",
     "shell.execute_reply.started": "2025-05-15T10:04:13.045768Z"
    }
   },
   "outputs": [],
   "source": [
    "messages = [{\n",
    "    'role': 'user',\n",
    "    'content': \"番茄炒鸡蛋的制作过程\"\n",
    "}]\n",
    "\n",
    "response = llm.chat(messages=messages, stream=False)"
   ]
  },
  {
   "cell_type": "code",
   "execution_count": 6,
   "id": "60e14f68",
   "metadata": {
    "execution": {
     "iopub.execute_input": "2025-05-15T10:04:19.429319Z",
     "iopub.status.busy": "2025-05-15T10:04:19.428871Z",
     "iopub.status.idle": "2025-05-15T10:04:19.431990Z",
     "shell.execute_reply": "2025-05-15T10:04:19.431391Z",
     "shell.execute_reply.started": "2025-05-15T10:04:19.429305Z"
    }
   },
   "outputs": [
    {
     "name": "stdout",
     "output_type": "stream",
     "text": [
      "<think>\n",
      "好的，我现在需要帮助用户了解番茄炒鸡蛋的制作过程。首先，我要确定用户的需求是什么。他们可能是一个刚开始学习烹饪的人，或者想了解如何做一道菜，也可能只是好奇。需要确保信息准确且易于理解。\n",
      "\n",
      "接下来，我应该考虑用户可能的深层需求。比如，他们可能想了解食材的选择、步骤的顺序，或者如何优化烹饪效果。此外，用户可能对不同的做法感兴趣，比如是家庭菜还是餐厅菜，或者是否需要特定的调料。\n",
      "\n",
      "然后，我需要回忆番茄炒鸡蛋的基本步骤。通常包括准备食材、炒制、调味等。需要详细描述每个步骤，确保用户能按照步骤操作。同时，要注意使用简单明了的语言，避免专业术语，让所有用户都能理解。\n",
      "\n",
      "可能还需要考虑用户是否需要额外的建议，比如如何保存或烹饪时间，或者是否需要提醒注意某些细节。例如，炒制时间、酱汁的调味等。\n",
      "\n",
      "另外，用户可能对不同的做法感兴趣，比如使用不同类型的番茄或添加其他配料。需要确认是否需要提供多种可能性，或者是否需要强调传统做法。\n",
      "\n",
      "最后，要确保回答结构清晰，分步骤说明，可能用小标题或编号来增强可读性。同时，检查是否有遗漏的重要信息，确保用户能够顺利完成制作。\n",
      "</think>\n",
      "\n",
      "以下是番茄炒鸡蛋的制作过程，步骤清晰、简单易懂：\n",
      "\n",
      "---\n",
      "\n",
      "### **番茄炒鸡蛋的步骤：**\n",
      "\n",
      "#### **1. 准备食材：**\n",
      "- 番茄：2-3个（或新鲜番茄）\n",
      "- 鸡蛋：1-2个（根据口味调整）\n",
      "- 盐、黑胡椒、橄榄油、香葱（可选）\n",
      "- 可选：辣椒粉、蒜末、香料（如香菜）\n",
      "\n",
      "---\n",
      "\n",
      "#### **2. 热锅冷油：**\n",
      "- 锅中放橄榄油，放入适量香葱或蒜末炒香，香味浓郁。\n",
      "\n",
      "---\n",
      "\n",
      "#### **3. 炒制鸡蛋：**\n",
      "- 将鸡蛋打入碗中，加入盐搅拌均匀，翻炒至蛋液变半熟，盛入锅中。\n",
      "\n",
      "---\n",
      "\n",
      "#### **4. 番茄炒制：**\n",
      "- 将番茄切丁或保留颜色，放入锅中，加入适量橄榄油，用中火炒至番茄变软，出锅后盛出。\n",
      "\n",
      "---\n",
      "\n",
      "#### **5. 调味：**\n",
      "- 将炒好的鸡蛋与番茄混合均匀，撒上盐、黑胡椒、辣椒粉、香菜等调味，即可出锅。\n",
      "\n",
      "---\n",
      "\n",
      "### **小贴士：**\n",
      "- **番茄可选**：如果喜欢酸甜口感，可选用新鲜番茄；若喜欢浓郁酱汁，可加入番茄酱或番茄汁。\n",
      "- **时间控制**：鸡蛋炒至半熟后，番茄炒软，再搅拌均匀，避免炒糊。\n",
      "- **保存**：可冷藏或冷冻，冷藏后加盐调味更美味。\n",
      "\n",
      "---\n",
      "\n",
      "如果你有其他菜谱或具体要求（如是否需要加入其他配料、调味方式等），我可以进一步调整！\n"
     ]
    }
   ],
   "source": [
    "print(response[0].get('content'))"
   ]
  },
  {
   "cell_type": "code",
   "execution_count": null,
   "id": "e51dac78",
   "metadata": {},
   "outputs": [],
   "source": []
  }
 ],
 "metadata": {
  "kernelspec": {
   "display_name": "Python 3 (ipykernel)",
   "language": "python",
   "name": "python3"
  },
  "language_info": {
   "codemirror_mode": {
    "name": "ipython",
    "version": 3
   },
   "file_extension": ".py",
   "mimetype": "text/x-python",
   "name": "python",
   "nbconvert_exporter": "python",
   "pygments_lexer": "ipython3",
   "version": "3.12.9"
  }
 },
 "nbformat": 4,
 "nbformat_minor": 5
}
