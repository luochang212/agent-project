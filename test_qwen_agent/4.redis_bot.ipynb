{
 "cells": [
  {
   "cell_type": "markdown",
   "id": "f755fea2-f4c9-44b8-a5c8-a8298db059af",
   "metadata": {},
   "source": [
    "## 通过 Qwen Agent 操作 Redis\n",
    "\n",
    "参考：[redis](https://github.com/modelcontextprotocol/servers/tree/main/src/redis)\n",
    "\n",
    "### 一、安装 Redis\n",
    "\n",
    "在 Ubuntu 安装 Redis：\n",
    "\n",
    "```bash\n",
    "# 更新软件包索引\n",
    "sudo apt update\n",
    "\n",
    "# 安装 Redis 服务器\n",
    "sudo apt install redis-server -y\n",
    "\n",
    "# 启动 Redis 服务\n",
    "sudo systemctl start redis-server\n",
    "\n",
    "# 设置开机自启\n",
    "sudo systemctl enable redis-server\n",
    "```\n",
    "\n",
    "调试 `redis-cli`：\n",
    "\n",
    "```bash\n",
    "# 新增 key value\n",
    "SET key value\n",
    "\n",
    "# 获取 key 对应的 value\n",
    "GET key\n",
    "\n",
    "# 删除 key value\n",
    "DEL key1 key2 ...\n",
    "\n",
    "# 查找以 \"user:\" 开头的 key\n",
    "KEYS user:*\n",
    "```"
   ]
  },
  {
   "cell_type": "markdown",
   "id": "ea7dc65a-0c99-4fb8-8cc4-46cfc5a1d97d",
   "metadata": {},
   "source": [
    "## 二、添加样例数据\n",
    "\n",
    "```bash\n",
    "# 输入样例数据\n",
    "SET user:001 shiori\n",
    "SET user:002 nagisa\n",
    "SET user:003 harei\n",
    "\n",
    "# 获取样例数据\n",
    "GET user:002\n",
    "```"
   ]
  },
  {
   "cell_type": "markdown",
   "id": "59757630-d5b2-49ae-ba1d-dab2110012df",
   "metadata": {},
   "source": [
    "## 三、Python 连接 Redis"
   ]
  },
  {
   "cell_type": "code",
   "execution_count": 1,
   "id": "7fa6c633-2fd1-4f98-9b95-1833bfedcf17",
   "metadata": {
    "execution": {
     "iopub.execute_input": "2025-05-21T14:39:02.386051Z",
     "iopub.status.busy": "2025-05-21T14:39:02.385592Z",
     "iopub.status.idle": "2025-05-21T14:39:02.395650Z",
     "shell.execute_reply": "2025-05-21T14:39:02.394982Z",
     "shell.execute_reply.started": "2025-05-21T14:39:02.386018Z"
    }
   },
   "outputs": [],
   "source": [
    "# !uv pip install redis"
   ]
  },
  {
   "cell_type": "code",
   "execution_count": 2,
   "id": "50c823ca-d33f-4853-8de4-6a7f07fe83ac",
   "metadata": {
    "execution": {
     "iopub.execute_input": "2025-05-21T14:40:07.004040Z",
     "iopub.status.busy": "2025-05-21T14:40:07.003617Z",
     "iopub.status.idle": "2025-05-21T14:40:07.134524Z",
     "shell.execute_reply": "2025-05-21T14:40:07.134033Z",
     "shell.execute_reply.started": "2025-05-21T14:40:07.004024Z"
    }
   },
   "outputs": [
    {
     "name": "stdout",
     "output_type": "stream",
     "text": [
      "True\n"
     ]
    }
   ],
   "source": [
    "import redis\n",
    "\n",
    "# 创建 Redis 连接对象\n",
    "r = redis.Redis(\n",
    "    host='localhost',    # Redis 服务器地址\n",
    "    port=6379,           # 默认端口\n",
    "    db=0,                # 数据库编号（0-15）\n",
    "    password=None,       # 如果设置了密码\n",
    "    decode_responses=True  # 自动将字节解码为字符串\n",
    ")\n",
    "\n",
    "# 测试连接\n",
    "print(r.ping())"
   ]
  },
  {
   "cell_type": "code",
   "execution_count": 3,
   "id": "cf289bec-b55d-4f2d-b547-819a3c4dff5a",
   "metadata": {
    "execution": {
     "iopub.execute_input": "2025-05-21T14:45:16.530357Z",
     "iopub.status.busy": "2025-05-21T14:45:16.529860Z",
     "iopub.status.idle": "2025-05-21T14:45:16.544501Z",
     "shell.execute_reply": "2025-05-21T14:45:16.543732Z",
     "shell.execute_reply.started": "2025-05-21T14:45:16.530330Z"
    }
   },
   "outputs": [
    {
     "data": {
      "text/plain": [
       "True"
      ]
     },
     "execution_count": 3,
     "metadata": {},
     "output_type": "execute_result"
    }
   ],
   "source": [
    "r.set('user:004', 'mizuki') # 写入\n",
    "r.setex('user:005', 3600, 'melody')  # 设置过期时间（秒）"
   ]
  },
  {
   "cell_type": "code",
   "execution_count": 4,
   "id": "8c64804d-f67b-4038-93c3-473b2d8ba342",
   "metadata": {
    "execution": {
     "iopub.execute_input": "2025-05-21T14:45:17.307432Z",
     "iopub.status.busy": "2025-05-21T14:45:17.307119Z",
     "iopub.status.idle": "2025-05-21T14:45:17.311656Z",
     "shell.execute_reply": "2025-05-21T14:45:17.311153Z",
     "shell.execute_reply.started": "2025-05-21T14:45:17.307417Z"
    }
   },
   "outputs": [
    {
     "data": {
      "text/plain": [
       "'mizuki'"
      ]
     },
     "execution_count": 4,
     "metadata": {},
     "output_type": "execute_result"
    }
   ],
   "source": [
    "r.get('user:004')"
   ]
  },
  {
   "cell_type": "code",
   "execution_count": 5,
   "id": "59e1679c-59fb-4d58-8624-4f4d4d288d16",
   "metadata": {
    "execution": {
     "iopub.execute_input": "2025-05-21T14:45:18.084197Z",
     "iopub.status.busy": "2025-05-21T14:45:18.083606Z",
     "iopub.status.idle": "2025-05-21T14:45:18.090167Z",
     "shell.execute_reply": "2025-05-21T14:45:18.089503Z",
     "shell.execute_reply.started": "2025-05-21T14:45:18.084174Z"
    }
   },
   "outputs": [
    {
     "data": {
      "text/plain": [
       "'melody'"
      ]
     },
     "execution_count": 5,
     "metadata": {},
     "output_type": "execute_result"
    }
   ],
   "source": [
    "r.get('user:005')"
   ]
  },
  {
   "cell_type": "code",
   "execution_count": 13,
   "id": "f44caab9-0120-4673-9cd4-6da99e79a6eb",
   "metadata": {
    "execution": {
     "iopub.execute_input": "2025-05-21T14:50:07.396140Z",
     "iopub.status.busy": "2025-05-21T14:50:07.395825Z",
     "iopub.status.idle": "2025-05-21T14:50:07.405139Z",
     "shell.execute_reply": "2025-05-21T14:50:07.403775Z",
     "shell.execute_reply.started": "2025-05-21T14:50:07.396119Z"
    }
   },
   "outputs": [
    {
     "data": {
      "text/plain": [
       "['user:003', 'user:005', 'user:002', 'user:004', 'user:001']"
      ]
     },
     "execution_count": 13,
     "metadata": {},
     "output_type": "execute_result"
    }
   ],
   "source": [
    "# 查找以 \"user:\" 开头的 key\n",
    "r.keys('user:*')"
   ]
  },
  {
   "cell_type": "markdown",
   "id": "c33a4311-cffe-4952-b187-b7e8f8703514",
   "metadata": {
    "execution": {
     "iopub.execute_input": "2025-05-21T15:42:37.246110Z",
     "iopub.status.busy": "2025-05-21T15:42:37.245720Z",
     "iopub.status.idle": "2025-05-21T15:42:37.248649Z",
     "shell.execute_reply": "2025-05-21T15:42:37.248180Z",
     "shell.execute_reply.started": "2025-05-21T15:42:37.246098Z"
    }
   },
   "source": [
    "## 四、MCP 调用 Redis\n",
    "\n",
    "运行代码前，需要确保 LLM 和 Redis 正常运行。\n",
    "\n",
    "要启动 LLM 服务，来到项目根目录运行：\n",
    "\n",
    "```bash\n",
    "cd test_qwen3\n",
    "bash vllm_server.sh\n",
    "```"
   ]
  },
  {
   "cell_type": "code",
   "execution_count": 15,
   "id": "46d05d37-c3f3-4ca3-9ecd-b6669b292b50",
   "metadata": {
    "execution": {
     "iopub.execute_input": "2025-05-21T15:45:49.680510Z",
     "iopub.status.busy": "2025-05-21T15:45:49.680148Z",
     "iopub.status.idle": "2025-05-21T15:45:53.139843Z",
     "shell.execute_reply": "2025-05-21T15:45:53.139421Z",
     "shell.execute_reply.started": "2025-05-21T15:45:49.680489Z"
    }
   },
   "outputs": [],
   "source": [
    "import os\n",
    "import asyncio\n",
    "from typing import Optional\n",
    "\n",
    "from qwen_agent.agents import Assistant\n",
    "from qwen_agent.gui import WebUI\n",
    "\n",
    "\n",
    "# 在 jupyter 中运行\n",
    "ROOT_RESOURCE = os.path.join(os.getcwd(), 'resource')\n",
    "\n",
    "# 在 python 文件中运行\n",
    "# ROOT_RESOURCE = os.path.join(os.path.dirname(__file__), 'resource')\n",
    "\n",
    "\n",
    "def init_agent_service():\n",
    "    llm_cfg = {\n",
    "        'model': 'Qwen3-0.6B-FP8',\n",
    "        'model_server': 'http://localhost:8000/v1',\n",
    "        'api_key': 'token-kcgyrk',\n",
    "        'generate_cfg': {\n",
    "            'top_p': 0.95,\n",
    "            'temperature': 0.6,\n",
    "        }\n",
    "    }\n",
    "    system = ('你扮演一个 Redis 操作助手，你具有操作 Redis 的能力')\n",
    "    tools = [{\n",
    "      \"mcpServers\": {\n",
    "        \"redis\": {\n",
    "          \"command\": \"npx\",\n",
    "          \"args\": [\n",
    "            \"-y\",\n",
    "            \"@modelcontextprotocol/server-redis\",\n",
    "            \"redis://localhost:6379\"\n",
    "          ]\n",
    "        }\n",
    "      }\n",
    "    }]\n",
    "    bot = Assistant(\n",
    "        llm=llm_cfg,\n",
    "        name='Redis 操作助手',\n",
    "        description='操作 Redis',\n",
    "        system_message=system,\n",
    "        function_list=tools,\n",
    "    )\n",
    "\n",
    "    return bot"
   ]
  },
  {
   "cell_type": "code",
   "execution_count": 16,
   "id": "cf42bc49-9295-420e-9d1d-dabc83e4d246",
   "metadata": {
    "execution": {
     "iopub.execute_input": "2025-05-21T15:45:57.030739Z",
     "iopub.status.busy": "2025-05-21T15:45:57.029589Z",
     "iopub.status.idle": "2025-05-21T15:46:13.926171Z",
     "shell.execute_reply": "2025-05-21T15:46:13.925647Z",
     "shell.execute_reply.started": "2025-05-21T15:45:57.030707Z"
    }
   },
   "outputs": [
    {
     "name": "stderr",
     "output_type": "stream",
     "text": [
      "2025-05-21 23:45:57,329 - mcp_manager.py - 110 - INFO - Initializing MCP tools from mcp servers: ['redis']\n",
      "2025-05-21 23:45:57,336 - mcp_manager.py - 245 - INFO - Initializing a MCP stdio_client, if this takes forever, please check the config of this mcp server: redis\n"
     ]
    }
   ],
   "source": [
    "# 初始化 Agent\n",
    "bot = init_agent_service()"
   ]
  },
  {
   "cell_type": "markdown",
   "id": "675b356e-1633-4c7d-ba3d-c5b7c72eb1a1",
   "metadata": {},
   "source": [
    "查询 Redis"
   ]
  },
  {
   "cell_type": "code",
   "execution_count": 17,
   "id": "5582fbdf-afeb-4acc-a0fd-10735a77f35e",
   "metadata": {
    "execution": {
     "iopub.execute_input": "2025-05-21T15:46:20.749607Z",
     "iopub.status.busy": "2025-05-21T15:46:20.749324Z",
     "iopub.status.idle": "2025-05-21T15:46:24.804481Z",
     "shell.execute_reply": "2025-05-21T15:46:24.803770Z",
     "shell.execute_reply.started": "2025-05-21T15:46:20.749590Z"
    }
   },
   "outputs": [
    {
     "name": "stdout",
     "output_type": "stream",
     "text": [
      "bot response: [{'role': 'assistant', 'content': '', 'reasoning_content': '\\n好的，用户让我查询user:001的value。首先，我需要确定用户的需求是什么。用户可能是在使用Redis来存储用户信息，现在需要获取某个用户的值。根据提供的工具列表，有一个redis-get函数，它的参数只需要key，所以应该调用这个函数。\\n\\n接下来，我需要检查是否需要处理可能的参数错误。比如，用户提供的key是否正确，是否符合Redis的语法。这里的key是user:001，看起来没问题。所以直接调用redis-get，参数是key: \"user:001\"。\\n\\n有没有可能用户希望存储这个信息？不过用户只是查询，所以不需要设置或删除。确认所有参数都正确后，生成对应的tool_call。\\n', 'name': 'Redis 操作助手'}, {'role': 'assistant', 'content': '', 'name': 'Redis 操作助手', 'function_call': {'name': 'redis-get', 'arguments': '{\"key\": \"user:001\"}'}}, {'role': 'function', 'content': 'shiori', 'name': 'redis-get'}, {'role': 'assistant', 'content': '', 'reasoning_content': '\\n好的，用户之前让我查询user:001的value，我执行了redis-get命令，返回了shiori。现在用户可能需要确认这个结果是否正确，或者有其他需求。我应该回复用户，说明查询的结果，并询问是否有其他问题。保持友好和帮助的态度，避免让用户感到困惑。\\n', 'name': 'Redis 操作助手'}, {'role': 'assistant', 'content': '\\n\\n查询结果为：shiori。需要帮助吗？', 'name': 'Redis 操作助手'}]\n"
     ]
    }
   ],
   "source": [
    "query = '查询user:001的value'\n",
    "messages = [{'role': 'user', 'content': query}]\n",
    "\n",
    "# 输出\n",
    "response = bot.run_nonstream(messages)\n",
    "print('bot response:', response)"
   ]
  },
  {
   "cell_type": "code",
   "execution_count": 18,
   "id": "6983ffea-6ff9-4634-9b7b-0f0c02d8cc84",
   "metadata": {
    "execution": {
     "iopub.execute_input": "2025-05-21T15:46:36.336015Z",
     "iopub.status.busy": "2025-05-21T15:46:36.335691Z",
     "iopub.status.idle": "2025-05-21T15:46:36.341184Z",
     "shell.execute_reply": "2025-05-21T15:46:36.340227Z",
     "shell.execute_reply.started": "2025-05-21T15:46:36.335994Z"
    }
   },
   "outputs": [
    {
     "name": "stdout",
     "output_type": "stream",
     "text": [
      "result: 查询结果为：shiori。需要帮助吗？\n"
     ]
    }
   ],
   "source": [
    "print('result:', response[-1]['content'].strip())"
   ]
  },
  {
   "cell_type": "markdown",
   "id": "1df169c5-fe72-479a-b53b-4dff04bb7bff",
   "metadata": {},
   "source": [
    "新增 Redis 记录"
   ]
  },
  {
   "cell_type": "code",
   "execution_count": 19,
   "id": "beaae50e-a8d8-492a-82f0-e0c17bfda884",
   "metadata": {
    "execution": {
     "iopub.execute_input": "2025-05-21T15:47:50.411497Z",
     "iopub.status.busy": "2025-05-21T15:47:50.411157Z",
     "iopub.status.idle": "2025-05-21T15:47:53.746189Z",
     "shell.execute_reply": "2025-05-21T15:47:53.745799Z",
     "shell.execute_reply.started": "2025-05-21T15:47:50.411475Z"
    }
   },
   "outputs": [
    {
     "name": "stdout",
     "output_type": "stream",
     "text": [
      "bot response: [{'role': 'assistant', 'content': '', 'reasoning_content': '\\n好的，用户让我增加一条记录，key是user:006，value是yukisyo。首先，我需要确认用户的需求是否正确。他们提供的参数看起来符合Redis的基本操作，key和value都是字符串，没有提到expiration时间，所以可能不需要设置过期时间。\\n\\n接下来，我需要检查可用的工具。用户提供的工具中有redis-set，这个函数正好用于设置键值对，支持可选的过期时间。参数需要key和value，而用户已经提供了这两个参数，所以直接调用redis-set即可。\\n\\n然后，我需要确保参数的格式正确。key是字符串，value也是字符串，符合要求。没有其他参数需要处理，所以直接构造JSON参数调用即可。不需要使用其他工具，因为用户只需要设置一个简单的记录，不需要获取或删除。\\n\\n最后，生成对应的tool_call，确保JSON格式正确，参数正确无误。这样用户的需求就能被准确处理了。\\n', 'name': 'Redis 操作助手'}, {'role': 'assistant', 'content': '', 'name': 'Redis 操作助手', 'function_call': {'name': 'redis-set', 'arguments': '{\"key\": \"user:006\", \"value\": \"yukisyo\"}'}}, {'role': 'function', 'content': 'Successfully set key: user:006', 'name': 'redis-set'}, {'role': 'assistant', 'content': '', 'reasoning_content': '\\n好的，用户之前让我增加一条记录，key是user:006，value是yukisyo。我使用了redis-set函数，参数正确，返回成功。现在用户可能希望确认这个操作是否成功，或者需要进一步操作。不过用户没有给出新的问题，所以应该结束对话。需要检查是否有遗漏，但根据之前的交互，用户似乎只是测试或完成任务。因此，回复应该简洁，确认成功，并询问是否需要帮助。\\n', 'name': 'Redis 操作助手'}, {'role': 'assistant', 'content': '\\n\\n成功！Redis中key `user:006` 已更新为 `yukisyo`。您还有其他需求吗？', 'name': 'Redis 操作助手'}]\n"
     ]
    }
   ],
   "source": [
    "query = '增加一条记录，key为user:006，value为yukisyo'\n",
    "messages = [{'role': 'user', 'content': query}]\n",
    "\n",
    "# 输出\n",
    "response = bot.run_nonstream(messages)\n",
    "print('bot response:', response)"
   ]
  },
  {
   "cell_type": "code",
   "execution_count": 20,
   "id": "9b307d1e-85d8-48df-9c04-8f59284da509",
   "metadata": {
    "execution": {
     "iopub.execute_input": "2025-05-21T15:47:59.690259Z",
     "iopub.status.busy": "2025-05-21T15:47:59.689068Z",
     "iopub.status.idle": "2025-05-21T15:47:59.695038Z",
     "shell.execute_reply": "2025-05-21T15:47:59.693989Z",
     "shell.execute_reply.started": "2025-05-21T15:47:59.690166Z"
    }
   },
   "outputs": [
    {
     "name": "stdout",
     "output_type": "stream",
     "text": [
      "result: 成功！Redis中key `user:006` 已更新为 `yukisyo`。您还有其他需求吗？\n"
     ]
    }
   ],
   "source": [
    "print('result:', response[-1]['content'].strip())"
   ]
  },
  {
   "cell_type": "code",
   "execution_count": 21,
   "id": "d7088ba7-eaf0-4661-a6e9-71881c76271a",
   "metadata": {
    "execution": {
     "iopub.execute_input": "2025-05-21T15:48:13.145628Z",
     "iopub.status.busy": "2025-05-21T15:48:13.144788Z",
     "iopub.status.idle": "2025-05-21T15:48:13.151395Z",
     "shell.execute_reply": "2025-05-21T15:48:13.150470Z",
     "shell.execute_reply.started": "2025-05-21T15:48:13.145592Z"
    }
   },
   "outputs": [
    {
     "data": {
      "text/plain": [
       "'yukisyo'"
      ]
     },
     "execution_count": 21,
     "metadata": {},
     "output_type": "execute_result"
    }
   ],
   "source": [
    "r.get('user:006')"
   ]
  },
  {
   "cell_type": "code",
   "execution_count": null,
   "id": "11e9c8fb-78f8-4041-9df2-e3b1943301d9",
   "metadata": {},
   "outputs": [],
   "source": []
  }
 ],
 "metadata": {
  "kernelspec": {
   "display_name": "Python 3 (ipykernel)",
   "language": "python",
   "name": "python3"
  },
  "language_info": {
   "codemirror_mode": {
    "name": "ipython",
    "version": 3
   },
   "file_extension": ".py",
   "mimetype": "text/x-python",
   "name": "python",
   "nbconvert_exporter": "python",
   "pygments_lexer": "ipython3",
   "version": "3.12.9"
  }
 },
 "nbformat": 4,
 "nbformat_minor": 5
}
