{
 "cells": [
  {
   "cell_type": "markdown",
   "id": "e2ae4ed1-6599-4633-8dc2-de7515beb69e",
   "metadata": {},
   "source": [
    "## 函数调用\n",
    "\n",
    "参考：[assistant_add_custom_tool.py](https://github.com/QwenLM/Qwen-Agent/blob/main/examples/assistant_add_custom_tool.py)"
   ]
  },
  {
   "cell_type": "code",
   "execution_count": 1,
   "id": "4044050f-3278-412c-8794-b48b45d0aa97",
   "metadata": {
    "execution": {
     "iopub.execute_input": "2025-06-07T10:34:38.933857Z",
     "iopub.status.busy": "2025-06-07T10:34:38.933479Z",
     "iopub.status.idle": "2025-06-07T10:34:39.491788Z",
     "shell.execute_reply": "2025-06-07T10:34:39.491348Z",
     "shell.execute_reply.started": "2025-06-07T10:34:38.933835Z"
    }
   },
   "outputs": [],
   "source": [
    "import json\n",
    "import json5\n",
    "\n",
    "from qwen_agent.agents import Assistant\n",
    "from qwen_agent.tools.base import BaseTool, register_tool"
   ]
  },
  {
   "cell_type": "markdown",
   "id": "d784d115-33a0-498d-99be-ba91e8e1bded",
   "metadata": {},
   "source": [
    "注册函数"
   ]
  },
  {
   "cell_type": "code",
   "execution_count": 2,
   "id": "f8ac692f-3077-4144-b314-7714527845c6",
   "metadata": {
    "execution": {
     "iopub.execute_input": "2025-06-07T10:34:39.492606Z",
     "iopub.status.busy": "2025-06-07T10:34:39.492192Z",
     "iopub.status.idle": "2025-06-07T10:34:39.495222Z",
     "shell.execute_reply": "2025-06-07T10:34:39.494819Z",
     "shell.execute_reply.started": "2025-06-07T10:34:39.492594Z"
    }
   },
   "outputs": [],
   "source": [
    "@register_tool('get_nickname')\n",
    "class NicknameTool(BaseTool):\n",
    "    description = '查询用户的小名'\n",
    "    parameters = [{\n",
    "        'name': 'name',\n",
    "        'type': 'string',\n",
    "        'description': '用户的名字',\n",
    "        'required': True,\n",
    "    }]\n",
    "\n",
    "    def call(self, params: str, **kwargs) -> str:\n",
    "        name = json5.loads(params)['name']\n",
    "        nickname = name + '宝宝'\n",
    "        return json.dumps({'nickname': nickname}, ensure_ascii=False)"
   ]
  },
  {
   "cell_type": "markdown",
   "id": "b88b1098-9994-4381-993b-d9acdfd61c96",
   "metadata": {},
   "source": [
    "为 Agent 添加函数"
   ]
  },
  {
   "cell_type": "code",
   "execution_count": 3,
   "id": "0b983ecd-51a3-419e-adcf-76f42bd85fda",
   "metadata": {
    "execution": {
     "iopub.execute_input": "2025-06-07T10:34:39.495701Z",
     "iopub.status.busy": "2025-06-07T10:34:39.495606Z",
     "iopub.status.idle": "2025-06-07T10:34:39.510959Z",
     "shell.execute_reply": "2025-06-07T10:34:39.510515Z",
     "shell.execute_reply.started": "2025-06-07T10:34:39.495693Z"
    }
   },
   "outputs": [],
   "source": [
    "# Postgres Agent 的系统指令\n",
    "SYSTEM_PROMPT = \"你是一个AI助手\"\n",
    "\n",
    "llm_cfg = {\n",
    "    'model': 'Qwen3-0.6B-FP8',\n",
    "    'model_server': 'http://localhost:8000/v1',\n",
    "    'api_key': 'token-kcgyrk',\n",
    "    'generate_cfg': {\n",
    "        'top_p': 0.95,\n",
    "        'temperature': 0.6,\n",
    "    }\n",
    "}\n",
    "\n",
    "tools = ['get_nickname']\n",
    "bot = Assistant(\n",
    "    llm=llm_cfg,\n",
    "    name='小名查询助手',\n",
    "    description='查询用户的小名',\n",
    "    system_message=SYSTEM_PROMPT,\n",
    "    function_list=tools,\n",
    ")"
   ]
  },
  {
   "cell_type": "markdown",
   "id": "2fc5a229-64f0-4237-a5f8-fd76ed391f74",
   "metadata": {},
   "source": [
    "在与 llm 的对话中调用函数"
   ]
  },
  {
   "cell_type": "code",
   "execution_count": 4,
   "id": "e0bf641a-740b-4178-a6ba-4d5262926000",
   "metadata": {
    "execution": {
     "iopub.execute_input": "2025-06-07T10:34:39.511406Z",
     "iopub.status.busy": "2025-06-07T10:34:39.511309Z",
     "iopub.status.idle": "2025-06-07T10:34:41.657863Z",
     "shell.execute_reply": "2025-06-07T10:34:41.657440Z",
     "shell.execute_reply.started": "2025-06-07T10:34:39.511399Z"
    }
   },
   "outputs": [
    {
     "data": {
      "text/plain": [
       "{'role': 'assistant', 'content': '\\n\\nAlex宝宝', 'name': '小名查询助手'}"
      ]
     },
     "execution_count": 4,
     "metadata": {},
     "output_type": "execute_result"
    }
   ],
   "source": [
    "query = '用户Alex的小名是什么？'\n",
    "messages = [{'role': 'user', 'content': query}]\n",
    "\n",
    "response = bot.run_nonstream(messages)\n",
    "response[-1]"
   ]
  },
  {
   "cell_type": "code",
   "execution_count": 5,
   "id": "b63460f4-aa9f-4ea4-a7ec-1358afa4bf02",
   "metadata": {
    "execution": {
     "iopub.execute_input": "2025-06-07T10:34:41.658316Z",
     "iopub.status.busy": "2025-06-07T10:34:41.658221Z",
     "iopub.status.idle": "2025-06-07T10:34:41.660844Z",
     "shell.execute_reply": "2025-06-07T10:34:41.660410Z",
     "shell.execute_reply.started": "2025-06-07T10:34:41.658307Z"
    }
   },
   "outputs": [
    {
     "name": "stdout",
     "output_type": "stream",
     "text": [
      "Alex宝宝\n"
     ]
    }
   ],
   "source": [
    "print(response[-1].get('content').strip())"
   ]
  },
  {
   "cell_type": "code",
   "execution_count": null,
   "id": "e1d05326-4c03-4498-a046-d23b9c279ce2",
   "metadata": {},
   "outputs": [],
   "source": []
  }
 ],
 "metadata": {
  "kernelspec": {
   "display_name": "Python 3 (ipykernel)",
   "language": "python",
   "name": "python3"
  },
  "language_info": {
   "codemirror_mode": {
    "name": "ipython",
    "version": 3
   },
   "file_extension": ".py",
   "mimetype": "text/x-python",
   "name": "python",
   "nbconvert_exporter": "python",
   "pygments_lexer": "ipython3",
   "version": "3.12.9"
  }
 },
 "nbformat": 4,
 "nbformat_minor": 5
}
