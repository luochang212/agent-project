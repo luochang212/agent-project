{
 "cells": [
  {
   "cell_type": "markdown",
   "id": "1e7c22fe-8715-41c7-a086-a82e7a99440d",
   "metadata": {},
   "source": [
    "## 通过 Qwen Agent 操作 FastAPI\n",
    "\n",
    "- GitHub: [tadata-org/fastapi_mcp](https://github.com/tadata-org/fastapi_mcp)\n",
    "- Docs: [getting-started](https://fastapi-mcp.tadata.com/getting-started/welcome)\n",
    "- Examples: [examples](https://github.com/tadata-org/fastapi_mcp/tree/main/examples)"
   ]
  },
  {
   "cell_type": "code",
   "execution_count": 1,
   "id": "345cec42-a7a9-4674-866e-d51e2b6fcf30",
   "metadata": {
    "execution": {
     "iopub.execute_input": "2025-05-20T03:35:44.183833Z",
     "iopub.status.busy": "2025-05-20T03:35:44.183642Z",
     "iopub.status.idle": "2025-05-20T03:35:44.187045Z",
     "shell.execute_reply": "2025-05-20T03:35:44.186299Z",
     "shell.execute_reply.started": "2025-05-20T03:35:44.183805Z"
    }
   },
   "outputs": [],
   "source": [
    "# !uv pip install fastapi-mcp"
   ]
  },
  {
   "cell_type": "code",
   "execution_count": 2,
   "id": "cdd926c8-5e62-442f-9193-ee7ceb1f60d1",
   "metadata": {
    "execution": {
     "iopub.execute_input": "2025-05-20T03:35:44.187752Z",
     "iopub.status.busy": "2025-05-20T03:35:44.187596Z",
     "iopub.status.idle": "2025-05-20T03:35:45.492522Z",
     "shell.execute_reply": "2025-05-20T03:35:45.491914Z",
     "shell.execute_reply.started": "2025-05-20T03:35:44.187738Z"
    }
   },
   "outputs": [],
   "source": [
    "import uvicorn\n",
    "\n",
    "from fastapi import FastAPI\n",
    "from fastapi_mcp import FastApiMCP\n",
    "from qwen_agent.agents import Assistant"
   ]
  },
  {
   "cell_type": "markdown",
   "id": "7531644b-4a79-4c45-8cf6-925bd2e49fdc",
   "metadata": {
    "execution": {
     "iopub.execute_input": "2025-05-20T03:35:45.493323Z",
     "iopub.status.busy": "2025-05-20T03:35:45.493085Z",
     "iopub.status.idle": "2025-05-20T03:35:45.496524Z",
     "shell.execute_reply": "2025-05-20T03:35:45.495829Z",
     "shell.execute_reply.started": "2025-05-20T03:35:45.493309Z"
    }
   },
   "source": [
    "FastAPI 服务端代码见 [fastapi_mcp_server.py](./fastapi_mcp_server.py)\n",
    "\n",
    "启动 FastAPI 服务：\n",
    "\n",
    "```bash\n",
    "python fastapi_mcp_server.py\n",
    "```"
   ]
  },
  {
   "cell_type": "markdown",
   "id": "a35b2232-32b5-4186-8264-870ceaccd402",
   "metadata": {
    "execution": {
     "iopub.execute_input": "2025-05-20T06:29:01.907550Z",
     "iopub.status.busy": "2025-05-20T06:29:01.905702Z",
     "iopub.status.idle": "2025-05-20T06:29:01.916485Z",
     "shell.execute_reply": "2025-05-20T06:29:01.915072Z",
     "shell.execute_reply.started": "2025-05-20T06:29:01.907511Z"
    }
   },
   "source": [
    "运行客户端代码："
   ]
  },
  {
   "cell_type": "code",
   "execution_count": 4,
   "id": "40de7e09-ec03-4ea9-bf91-85a9b02a010b",
   "metadata": {
    "execution": {
     "iopub.execute_input": "2025-05-20T03:35:45.497355Z",
     "iopub.status.busy": "2025-05-20T03:35:45.497184Z",
     "iopub.status.idle": "2025-05-20T03:35:45.503069Z",
     "shell.execute_reply": "2025-05-20T03:35:45.502435Z",
     "shell.execute_reply.started": "2025-05-20T03:35:45.497343Z"
    }
   },
   "outputs": [],
   "source": [
    "def init_agent_service():\n",
    "    llm_cfg = {\n",
    "        'model': 'Qwen3-0.6B-FP8',\n",
    "        'model_server': 'http://localhost:8000/v1',\n",
    "        'api_key': 'token-kcgyrk',\n",
    "        'generate_cfg': {\n",
    "            'top_p': 0.95,\n",
    "            'temperature': 0.6,\n",
    "        }\n",
    "    }\n",
    "    system = ('你扮演一个 API 调用助手，你具有查询用户信息的能力')\n",
    "    tools = [{\n",
    "      \"mcpServers\": {\n",
    "        \"fastapi-mcp\": {\n",
    "          \"url\": \"http://localhost:8351/mcp\"\n",
    "        }\n",
    "      }\n",
    "    }]\n",
    "\n",
    "    bot = Assistant(\n",
    "        llm=llm_cfg,\n",
    "        name='API 调用助手',\n",
    "        description='用户信息查询',\n",
    "        system_message=system,\n",
    "        function_list=tools,\n",
    "    )\n",
    "\n",
    "    return bot"
   ]
  },
  {
   "cell_type": "code",
   "execution_count": 5,
   "id": "29375b2c-9485-4a66-b920-25821c354cc4",
   "metadata": {
    "execution": {
     "iopub.execute_input": "2025-05-20T03:35:45.503962Z",
     "iopub.status.busy": "2025-05-20T03:35:45.503806Z",
     "iopub.status.idle": "2025-05-20T03:35:45.752075Z",
     "shell.execute_reply": "2025-05-20T03:35:45.751361Z",
     "shell.execute_reply.started": "2025-05-20T03:35:45.503951Z"
    }
   },
   "outputs": [
    {
     "name": "stderr",
     "output_type": "stream",
     "text": [
      "2025-05-20 11:35:45,512 - mcp_manager.py - 110 - INFO - Initializing MCP tools from mcp servers: ['fastapi-mcp']\n"
     ]
    }
   ],
   "source": [
    "# 初始化 Agent\n",
    "bot = init_agent_service()"
   ]
  },
  {
   "cell_type": "code",
   "execution_count": 6,
   "id": "63c5cc47-0558-4e43-ac2a-bca1973f91d0",
   "metadata": {
    "execution": {
     "iopub.execute_input": "2025-05-20T03:35:45.753814Z",
     "iopub.status.busy": "2025-05-20T03:35:45.753484Z",
     "iopub.status.idle": "2025-05-20T03:35:49.192081Z",
     "shell.execute_reply": "2025-05-20T03:35:49.191602Z",
     "shell.execute_reply.started": "2025-05-20T03:35:45.753799Z"
    }
   },
   "outputs": [
    {
     "name": "stdout",
     "output_type": "stream",
     "text": [
      "bot response: [{'role': 'assistant', 'content': '', 'reasoning_content': '\\n好的，用户需要获取用户Nagisa的ID为9523的信息。首先，我应该检查可用的工具，看看有没有相关的函数。提供的工具中有一个fastapi-mcp-get_user_info，它的参数需要user_id，类型是整数，且必须提供。用户已经明确给出了ID，所以直接调用这个函数，把user_id设为9523。不需要其他步骤，应该就能得到用户的信息了。\\n', 'name': 'API 调用助手'}, {'role': 'assistant', 'content': '', 'name': 'API 调用助手', 'function_call': {'name': 'fastapi-mcp-get_user_info', 'arguments': '{\"user_id\": 9523}'}}, {'role': 'function', 'content': '{\\n  \"user_id\": 9523,\\n  \"nationality\": \"China\",\\n  \"birthday\": \"2.12\"\\n}', 'name': 'fastapi-mcp-get_user_info'}, {'role': 'assistant', 'content': '', 'reasoning_content': '\\n好的，用户之前让我获取Nagisa的用户信息，我调用了fastapi-mcp-get_user_info函数，参数是用户ID9523。现在API返回的信息显示用户ID是9523，国籍是中国，生日是2月12日。我需要确认用户是否需要这些信息，或者是否有其他需求。用户的问题明确提到获取Nagisa的信息，所以应该直接提供这些数据。检查是否有其他工具需要调用，但目前只有这个函数可用，所以不需要额外操作。最后，将结果整理成自然的中文回复。\\n', 'name': 'API 调用助手'}, {'role': 'assistant', 'content': '\\n\\n用户Nagisa的信息如下：\\n\\n- 用户ID：9523\\n- 国籍：中国\\n- 生日：2月12日\\n\\n如果需要进一步帮助，请随时告诉我！', 'name': 'API 调用助手'}]\n"
     ]
    }
   ],
   "source": [
    "query = '用户Nagisa的ID是9523，请获取该用户的用户信息'\n",
    "messages = [{'role': 'user', 'content': query}]\n",
    "\n",
    "# 输出\n",
    "response = bot.run_nonstream(messages)\n",
    "print('bot response:', response)"
   ]
  },
  {
   "cell_type": "code",
   "execution_count": 7,
   "id": "a1eb8532-a8f7-437b-892f-b922588cfd8e",
   "metadata": {
    "execution": {
     "iopub.execute_input": "2025-05-20T03:35:49.192697Z",
     "iopub.status.busy": "2025-05-20T03:35:49.192567Z",
     "iopub.status.idle": "2025-05-20T03:35:49.195655Z",
     "shell.execute_reply": "2025-05-20T03:35:49.195169Z",
     "shell.execute_reply.started": "2025-05-20T03:35:49.192687Z"
    }
   },
   "outputs": [
    {
     "name": "stdout",
     "output_type": "stream",
     "text": [
      "result: 用户Nagisa的信息如下：\n",
      "\n",
      "- 用户ID：9523\n",
      "- 国籍：中国\n",
      "- 生日：2月12日\n",
      "\n",
      "如果需要进一步帮助，请随时告诉我！\n"
     ]
    }
   ],
   "source": [
    "print('result:', response[-1]['content'].strip())"
   ]
  },
  {
   "cell_type": "code",
   "execution_count": null,
   "id": "7251041b-55ee-45d8-9fcb-e102eceeeb29",
   "metadata": {},
   "outputs": [],
   "source": []
  }
 ],
 "metadata": {
  "kernelspec": {
   "display_name": "Python 3 (ipykernel)",
   "language": "python",
   "name": "python3"
  },
  "language_info": {
   "codemirror_mode": {
    "name": "ipython",
    "version": 3
   },
   "file_extension": ".py",
   "mimetype": "text/x-python",
   "name": "python",
   "nbconvert_exporter": "python",
   "pygments_lexer": "ipython3",
   "version": "3.12.9"
  }
 },
 "nbformat": 4,
 "nbformat_minor": 5
}
