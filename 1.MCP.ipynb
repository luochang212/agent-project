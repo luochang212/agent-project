{
 "cells": [
  {
   "cell_type": "code",
   "execution_count": null,
   "id": "e94e7647-caff-47a4-ae8a-a4da913c4734",
   "metadata": {},
   "outputs": [],
   "source": []
  },
  {
   "cell_type": "code",
   "execution_count": null,
   "id": "598ca5a6-60a3-4635-8239-5227a5d6ba5d",
   "metadata": {},
   "outputs": [],
   "source": []
  },
  {
   "cell_type": "code",
   "execution_count": null,
   "id": "f15afe8d-f5a7-4000-9ccb-c924075c242a",
   "metadata": {},
   "outputs": [],
   "source": []
  },
  {
   "cell_type": "markdown",
   "id": "4a4ba719-8ab9-4b08-997a-e0b3cc9739a8",
   "metadata": {
    "execution": {
     "iopub.execute_input": "2025-05-13T15:53:47.591869Z",
     "iopub.status.busy": "2025-05-13T15:53:47.591518Z",
     "iopub.status.idle": "2025-05-13T15:53:47.600036Z",
     "shell.execute_reply": "2025-05-13T15:53:47.598472Z",
     "shell.execute_reply.started": "2025-05-13T15:53:47.591848Z"
    }
   },
   "source": [
    "参考：\n",
    "\n",
    "- [MCP](https://modelcontextprotocol.io)"
   ]
  },
  {
   "cell_type": "code",
   "execution_count": null,
   "id": "05fe79ae-f5d7-4dc5-9722-0530048ab333",
   "metadata": {},
   "outputs": [],
   "source": []
  }
 ],
 "metadata": {
  "kernelspec": {
   "display_name": "Python 3 (ipykernel)",
   "language": "python",
   "name": "python3"
  },
  "language_info": {
   "codemirror_mode": {
    "name": "ipython",
    "version": 3
   },
   "file_extension": ".py",
   "mimetype": "text/x-python",
   "name": "python",
   "nbconvert_exporter": "python",
   "pygments_lexer": "ipython3",
   "version": "3.12.9"
  }
 },
 "nbformat": 4,
 "nbformat_minor": 5
}
