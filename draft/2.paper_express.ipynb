{
 "cells": [
  {
   "cell_type": "markdown",
   "id": "0be9d633-afe5-4b35-bf94-95c2adde01b3",
   "metadata": {},
   "source": [
    "## 论文速递 "
   ]
  },
  {
   "cell_type": "code",
   "execution_count": null,
   "id": "3866b1c3-7074-4ee8-a9ca-5e9035bb5e3e",
   "metadata": {},
   "outputs": [],
   "source": []
  },
  {
   "cell_type": "code",
   "execution_count": null,
   "id": "5063b894-1939-4f70-b4c9-198d15407063",
   "metadata": {},
   "outputs": [],
   "source": []
  },
  {
   "cell_type": "code",
   "execution_count": null,
   "id": "5922e3eb-907b-4bc4-8605-9b907187967f",
   "metadata": {},
   "outputs": [],
   "source": []
  }
 ],
 "metadata": {
  "kernelspec": {
   "display_name": "Python 3 (ipykernel)",
   "language": "python",
   "name": "python3"
  },
  "language_info": {
   "codemirror_mode": {
    "name": "ipython",
    "version": 3
   },
   "file_extension": ".py",
   "mimetype": "text/x-python",
   "name": "python",
   "nbconvert_exporter": "python",
   "pygments_lexer": "ipython3",
   "version": "3.12.9"
  }
 },
 "nbformat": 4,
 "nbformat_minor": 5
}
