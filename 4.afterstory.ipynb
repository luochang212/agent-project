{
 "cells": [
  {
   "cell_type": "markdown",
   "id": "a5fa1325-54c8-4ccf-8418-28aacf09a00e",
   "metadata": {},
   "source": [
    "## 后日谈\n",
    "\n",
    "> 一些碎碎念。\n",
    "\n",
    "### 1. 技术大爆发\n",
    "\n",
    "大模型输入是语言，输出也是语言，它终究是一种语言模态的东西。想要影响现实世界，比如执行程序、操纵机械臂，就需要一种通信协议，来实现自然语言到接口语言的转换，于是 **MCP** 出现了；囿于单个大模型的上下文窗口限制、参数量限制、思考时间限制，它无法完成复杂且长程的工作。如果有一个框架，把多个乃至多种大模型组织起来，通力协作，共同完成一项任务该有多好，于是 **Agent** 又出现了。\n",
    "\n",
    "蛮不可思议的。短短数年间，我们经历了：\n",
    "\n",
    "1. 互联网+\n",
    "2. AI+\n",
    "3. LLM+\n",
    "4. Agent+\n",
    "\n",
    "看似每项技术都发展得普通且合理，但是跳出来一看，就被技术爆发的速度所震惊。不知道的还以为我们 [2017 年](https://arxiv.org/abs/1706.03762) 捡到外星飞船了呢。\n",
    "\n",
    "### 2. 对 OpenAI Agents 的看法\n",
    "\n",
    "做技术选型的时候，我没有选 OpenAI Agents，最终还是选了 Qwen Agent。究其根本，是因为 OpenAI Agents 不是一个完全开源的 Agent.\n",
    "\n",
    "1. **功能阉割**：OpenAI Agents 的付费接口叫 [Responses API](https://platform.openai.com/docs/api-reference/responses)，开源接口叫 [Chat Completions API](https://platform.openai.com/docs/api-reference/chat)，付费接口和开源接口协议不同，且开源接口功能阉割严重\n",
    "2. **封禁供应商**：检查模型名中的供应商名，若供应商遭封禁，运行时会报错\n",
    "3. **追踪 IP**：默认开启 `tracing` 模式。若要关闭追踪，需设置环境变量 `OPENAI_AGENTS_DISABLE_TRACING=1`。初次使用者几乎必然向 OpenAI 的服务器暴露自己的 IP\n",
    "\n",
    "\n",
    "虽然 OpenAI 依然是行业的开创者和领先者，但是嘴脸实在太难看了。声称为了人类福祉却做着蝇营狗苟的事，这一点上我赞同马斯克，OpenAI 应该改名叫 CloseAI.\n",
    "\n",
    "### 3. 预研计划\n",
    "\n",
    "Agent 是调用 MCP 的最佳方法，两者无法分开，因此不得不将两者置于同一项目下。如此，项目便显得有些臃肿。为了让它条理清晰，我又不得不设置了一些阶段性的小目标。于是便有了预研计划。\n",
    "\n",
    "预研计划如下：\n",
    "\n",
    "1. Qwen3 推理脚本开发：[test_qwen3](./test_qwen3/README.md)\n",
    "2. 基于 LangChain 实现 RAG：[test_rag](./test_rag/README.md)\n",
    "3. Qwen Agent 的简单使用：[test_qwen_agent](./test_qwen_agent/README.md)\n",
    "4. OpenAI Agents 的简单使用：[test_openai_agent](./test_openai_agent/README.md)\n",
    "\n",
    "关于预研计划的具体说明见 [预研计划](https://github.com/luochang212/agent-project?tab=readme-ov-file#%E4%BA%94%E9%A2%84%E7%A0%94%E8%AE%A1%E5%88%92)。\n"
   ]
  },
  {
   "cell_type": "markdown",
   "id": "605fec7e-e7a2-4c75-8dad-7c0b0d144dfa",
   "metadata": {},
   "source": [
    "参考：\n",
    "\n",
    "- [Manus模式真的有用？阿里妈妈业务风控「深度研究」初探](https://mp.weixin.qq.com/s/5bkxnrEoLwQWtmwc26CFEA)\n",
    "- [如何让 Agent 规划调用工具](https://mp.weixin.qq.com/s/CpdXBPTmRZOmTWutywgw3A)"
   ]
  },
  {
   "cell_type": "code",
   "execution_count": null,
   "id": "22850dbe-0daf-47f8-97b2-f724d7cc1440",
   "metadata": {},
   "outputs": [],
   "source": []
  }
 ],
 "metadata": {
  "kernelspec": {
   "display_name": "Python 3 (ipykernel)",
   "language": "python",
   "name": "python3"
  },
  "language_info": {
   "codemirror_mode": {
    "name": "ipython",
    "version": 3
   },
   "file_extension": ".py",
   "mimetype": "text/x-python",
   "name": "python",
   "nbconvert_exporter": "python",
   "pygments_lexer": "ipython3",
   "version": "3.12.9"
  }
 },
 "nbformat": 4,
 "nbformat_minor": 5
}
