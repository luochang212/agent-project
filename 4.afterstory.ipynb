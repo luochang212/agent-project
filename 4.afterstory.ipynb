{
 "cells": [
  {
   "cell_type": "markdown",
   "id": "a5fa1325-54c8-4ccf-8418-28aacf09a00e",
   "metadata": {},
   "source": [
    "## 后日谈\n",
    "\n",
    "本文原本是一个学习 MCP 的项目，随着学习的深入，我发现 Agent 是调用 MCP 的最佳方法。不得不把 Qwen Agent 和 OpenAI Agents 学了一遍。此时已经偏离原本的计划很远了，也花了远超一个项目所需的时间。\n",
    "\n",
    "### 1. 预研项目\n",
    "\n",
    "本文有很多预研项目：\n",
    "\n",
    "1. Qwen3 推理脚本开发\n",
    "2. 基于 LangChain 实现 RAG 的方法 \n",
    "3. 开发简单的 Qwen Agent\n",
    "4. 开发简单的 OpenAI Agents\n",
    "\n",
    "详见 [预研计划](https://github.com/luochang212/mcp-project?tab=readme-ov-file#%E9%A2%84%E7%A0%94%E8%AE%A1%E5%88%92)。\n",
    "\n",
    "### 2. 技术选型\n",
    "\n",
    "我还面临 Agent 框架的抉择，究竟是用 OpenAI Agents 还是 Qwen Agent，这两个框架各有优劣。我最后选择了 Qwen Agent。\n",
    "\n",
    "究其根本，还是因为 OpenAI 太恶心：\n",
    "\n",
    "1. **阉割**：OpenAI Agents 给 OpenAI 付费接口的协议和开源接口的协议是不同的，而且开源接口有很多功能不支持\n",
    "2. **封禁**：它会在模型名那里，检查供应商的名称。我的供应商就被它封禁了，调用 API 的时候直接报错\n",
    "3. **跟踪**：默认开启 tracing，需要额外的代码关闭它。如果不关，他们会知道你的 IP 地址\n",
    "\n",
    "开源一个 Agent 漏了十八个心眼，我愿称之为 CloseAI."
   ]
  },
  {
   "cell_type": "markdown",
   "id": "605fec7e-e7a2-4c75-8dad-7c0b0d144dfa",
   "metadata": {},
   "source": [
    "参考：\n",
    "\n",
    "- [Manus模式真的有用？阿里妈妈业务风控「深度研究」初探](https://mp.weixin.qq.com/s/5bkxnrEoLwQWtmwc26CFEA)\n",
    "- [如何让 Agent 规划调用工具](https://mp.weixin.qq.com/s/5bkxnrEoLwQWtmwc26CFEA)\n",
    "- [全面解析 OpenAI Agents SDK 六大 Agent 模式](https://mp.weixin.qq.com/s/_x4-1WLTxZ-FxPLJxVYhbA)"
   ]
  },
  {
   "cell_type": "code",
   "execution_count": null,
   "id": "22850dbe-0daf-47f8-97b2-f724d7cc1440",
   "metadata": {},
   "outputs": [],
   "source": []
  }
 ],
 "metadata": {
  "kernelspec": {
   "display_name": "Python 3 (ipykernel)",
   "language": "python",
   "name": "python3"
  },
  "language_info": {
   "codemirror_mode": {
    "name": "ipython",
    "version": 3
   },
   "file_extension": ".py",
   "mimetype": "text/x-python",
   "name": "python",
   "nbconvert_exporter": "python",
   "pygments_lexer": "ipython3",
   "version": "3.12.9"
  }
 },
 "nbformat": 4,
 "nbformat_minor": 5
}
