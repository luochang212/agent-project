{
 "cells": [
  {
   "cell_type": "markdown",
   "id": "a5fa1325-54c8-4ccf-8418-28aacf09a00e",
   "metadata": {},
   "source": [
    "## 后日谈\n",
    "\n",
    "本文最开始不过是一个学习 MCP 的项目，随着学习的深入我发现 Agent 才是调用 MCP 的最佳方式，于是开始学 Qwen Agent 和 OpenAI Agent. 此时，本文的重心已经偏离了原本的计划，要知道这个项目的名字叫 [mcp-project](https://github.com/luochang212/mcp-project)，搞了一堆 Agent 实非所愿。\n",
    "\n",
    "没有办法，为了实现我的蓝图，只能不断扩大预研对象，演变成一场旷日持久的作战。预研详情参见 [预研计划](https://github.com/luochang212/mcp-project?tab=readme-ov-file#%E9%A2%84%E7%A0%94%E8%AE%A1%E5%88%92)。"
   ]
  },
  {
   "cell_type": "markdown",
   "id": "605fec7e-e7a2-4c75-8dad-7c0b0d144dfa",
   "metadata": {},
   "source": [
    "参考：\n",
    "\n",
    "- [Manus模式真的有用？阿里妈妈业务风控「深度研究」初探](https://mp.weixin.qq.com/s/5bkxnrEoLwQWtmwc26CFEA)\n",
    "- [如何让 Agent 规划调用工具](https://mp.weixin.qq.com/s/5bkxnrEoLwQWtmwc26CFEA)\n",
    "- [全面解析 OpenAI Agents SDK 六大 Agent 模式](https://mp.weixin.qq.com/s/_x4-1WLTxZ-FxPLJxVYhbA)"
   ]
  },
  {
   "cell_type": "code",
   "execution_count": null,
   "id": "22850dbe-0daf-47f8-97b2-f724d7cc1440",
   "metadata": {},
   "outputs": [],
   "source": []
  }
 ],
 "metadata": {
  "kernelspec": {
   "display_name": "Python 3 (ipykernel)",
   "language": "python",
   "name": "python3"
  },
  "language_info": {
   "codemirror_mode": {
    "name": "ipython",
    "version": 3
   },
   "file_extension": ".py",
   "mimetype": "text/x-python",
   "name": "python",
   "nbconvert_exporter": "python",
   "pygments_lexer": "ipython3",
   "version": "3.12.9"
  }
 },
 "nbformat": 4,
 "nbformat_minor": 5
}
