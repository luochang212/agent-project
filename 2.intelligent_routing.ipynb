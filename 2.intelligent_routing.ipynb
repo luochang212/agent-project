{
 "cells": [
  {
   "cell_type": "markdown",
   "id": "ec0ec6ca-2cc8-4895-8024-2a5cebbc5ea5",
   "metadata": {},
   "source": [
    "## 智能路由\n",
    "\n",
    "本节，为了实现 **智能路由**，我们来写前文提到的 **客诉核查 Agent**。\n",
    "\n",
    "它的设定是这样的。我们是一家电商公司，现在有一位客户向我们发起了客诉，我们需要一个 Agent，自动验证客诉的内容是否属实。\n",
    "\n",
    "这个 Agent 本质是一个决策体，它的功能是根据预先设定好的客诉类型，将客诉转入对应的客诉流程。我们希望待决策问题不要过于简单，起码是 `if else` 无法实现的，否则我们的 Agent 就会变成画蛇添足的产物。"
   ]
  },
  {
   "cell_type": "markdown",
   "id": "9e35d385-91ac-41ce-afe3-d6c2af234607",
   "metadata": {},
   "source": [
    "### 1. 构造样本数据\n",
    "\n",
    "第一步是喜闻乐见的编数据环节。我们要编两张 PostgreSQL 表：订单表、物流表。\n",
    "\n",
    "下面是建表语句：\n",
    "\n",
    "```sql\n",
    "-- 创建数据库\n",
    "CREATE DATABASE ecommerce_orders;\n",
    "\n",
    "-- 创建新用户\n",
    "CREATE USER admin WITH ENCRYPTED PASSWORD 'admin-password';\n",
    "\n",
    "-- 授予用户权限\n",
    "GRANT ALL PRIVILEGES ON DATABASE ecommerce_orders TO admin;\n",
    "\n",
    "-- 切换数据库\n",
    "\\c ecommerce_orders\n",
    "\n",
    "-- 订单表\n",
    "CREATE TABLE orders (\n",
    "    order_id INTEGER PRIMARY KEY,\n",
    "    uid INTEGER NOT NULL,\n",
    "    mall_id INTEGER NOT NULL,\n",
    "    goods_id INTEGER NOT NULL,\n",
    "    status VARCHAR(20) NOT NULL,\n",
    "    timestamp TIMESTAMP DEFAULT CURRENT_TIMESTAMP,\n",
    "    CONSTRAINT valid_status CHECK (status IN ('ordered', 'cancelled'))\n",
    ");\n",
    "\n",
    "-- 物流表\n",
    "CREATE TABLE logistics (\n",
    "    order_id INTEGER PRIMARY KEY,\n",
    "    status VARCHAR(20) NOT NULL,\n",
    "    timestamp TIMESTAMP DEFAULT CURRENT_TIMESTAMP,\n",
    "    CONSTRAINT valid_status CHECK (status IN ('pending', 'in_transit', 'delivered', 'cancelled'))\n",
    ");\n",
    "\n",
    "-- 赋予表权限\n",
    "GRANT SELECT ON orders TO admin;\n",
    "GRANT SELECT ON logistics TO admin;\n",
    "```\n",
    "\n",
    "上面是两张无历史记录的状态表。实际业务中，历史记录一般存在 Hive 表，PostgreSQL 表存当前状态就好了。\n",
    "\n",
    "为了让 Agent 理解如何使用这两张表，还需要为它添加注释。\n",
    "\n",
    "\n",
    "```sql\n",
    "-- 订单表注释\n",
    "COMMENT ON TABLE orders IS '用户订单信息';\n",
    "\n",
    "-- 订单表字段注释\n",
    "COMMENT ON COLUMN orders.order_id IS '唯一订单ID（主键）';\n",
    "COMMENT ON COLUMN orders.uid IS '用户ID';\n",
    "COMMENT ON COLUMN orders.mall_id IS '商城ID';\n",
    "COMMENT ON COLUMN orders.goods_id IS '商品ID';\n",
    "COMMENT ON COLUMN orders.status IS '订单状态: ordered(已下单)/cancelled(已取消)';\n",
    "COMMENT ON COLUMN orders.timestamp IS '订单状态更新时间';\n",
    "\n",
    "-- 物流表注释\n",
    "COMMENT ON TABLE logistics IS '订单的物流状态信息';\n",
    "\n",
    "-- 物流表字段注释\n",
    "COMMENT ON COLUMN logistics.order_id IS '关联的订单ID（主键';\n",
    "COMMENT ON COLUMN logistics.status IS '物流状态: pending(待处理)/in_transit(运输中)/delivered(已送达)/cancelled(已取消)';\n",
    "COMMENT ON COLUMN logistics.timestamp IS '物流状态更新时间';\n",
    "```\n",
    "\n",
    "让 DeepSeek 帮我造一些订单：\n",
    "\n",
    "```sql\n",
    "-- 插入订单数据\n",
    "INSERT INTO orders (order_id, uid, mall_id, goods_id, status, timestamp) VALUES\n",
    "(1001, 101, 1, 5001, 'ordered', '2025-05-01 10:00:00'),  -- 正常下单待发货\n",
    "(1002, 102, 2, 6002, 'ordered', '2025-05-02 14:30:00'),  -- 运输中订单\n",
    "(1003, 103, 1, 5003, 'ordered', '2025-05-03 09:15:00'),  -- 已送达订单\n",
    "(1004, 104, 3, 7004, 'cancelled', '2025-05-04 16:45:00'), -- 发货前取消\n",
    "(1005, 105, 2, 6005, 'cancelled', '2025-05-05 11:20:00'); -- 运输中取消\n",
    "\n",
    "-- 插入物流数据\n",
    "INSERT INTO logistics (order_id, status, timestamp) VALUES\n",
    "(1001, 'pending', '2025-05-01 10:05:00'),     -- 待发货状态\n",
    "(1002, 'in_transit', '2025-05-02 15:00:00'),   -- 运输中状态\n",
    "(1003, 'delivered', '2025-05-03 17:30:00'),    -- 已送达状态\n",
    "(1004, 'cancelled', '2025-05-04 16:50:00'),    -- 发货前取消\n",
    "(1005, 'in_transit', '2025-05-05 11:30:00');   -- 取消时已在运输中\n",
    "```\n",
    "\n",
    "> PostgreSQL 数据库的安装过程见 [postgresql_bot.ipynb](test_qwen_agent/3.postgresql_bot.ipynb)"
   ]
  },
  {
   "cell_type": "markdown",
   "id": "c4442fb0-537b-46ca-9f4d-956b00c5bd96",
   "metadata": {},
   "source": [
    "### 2. Python 连接 PostgreSQL\n",
    "\n",
    "检查能否获取 PostgreSQL 中的数据。"
   ]
  },
  {
   "cell_type": "code",
   "execution_count": 1,
   "id": "afe83593-4b1d-437e-9115-1dd71e35333f",
   "metadata": {
    "execution": {
     "iopub.execute_input": "2025-06-02T10:17:04.888436Z",
     "iopub.status.busy": "2025-06-02T10:17:04.888185Z",
     "iopub.status.idle": "2025-06-02T10:17:04.919929Z",
     "shell.execute_reply": "2025-06-02T10:17:04.916977Z",
     "shell.execute_reply.started": "2025-06-02T10:17:04.888417Z"
    }
   },
   "outputs": [],
   "source": [
    "import psycopg2\n",
    "\n",
    "conn = psycopg2.connect(\n",
    "    host=\"localhost\",\n",
    "    port=\"5432\",\n",
    "    database=\"ecommerce_orders\",\n",
    "    user=\"admin\",\n",
    "    password=\"admin-password\"\n",
    ")"
   ]
  },
  {
   "cell_type": "code",
   "execution_count": 2,
   "id": "70bf7923-4ab4-49ed-81a2-c3d6199e862f",
   "metadata": {
    "execution": {
     "iopub.execute_input": "2025-06-02T10:17:04.922015Z",
     "iopub.status.busy": "2025-06-02T10:17:04.921681Z",
     "iopub.status.idle": "2025-06-02T10:17:04.942452Z",
     "shell.execute_reply": "2025-06-02T10:17:04.940349Z",
     "shell.execute_reply.started": "2025-06-02T10:17:04.921989Z"
    }
   },
   "outputs": [
    {
     "data": {
      "text/plain": [
       "('PostgreSQL 16.9 (Ubuntu 16.9-0ubuntu0.24.04.1) on x86_64-pc-linux-gnu, compiled by gcc (Ubuntu 13.3.0-6ubuntu2~24.04) 13.3.0, 64-bit',)"
      ]
     },
     "execution_count": 2,
     "metadata": {},
     "output_type": "execute_result"
    }
   ],
   "source": [
    "cursor = conn.cursor()\n",
    "cursor.execute(\"SELECT version();\")\n",
    "record = cursor.fetchone()\n",
    "record"
   ]
  },
  {
   "cell_type": "code",
   "execution_count": 3,
   "id": "5e854ef8-e58b-4d4c-b405-87d484a8dca8",
   "metadata": {
    "execution": {
     "iopub.execute_input": "2025-06-02T10:17:04.945081Z",
     "iopub.status.busy": "2025-06-02T10:17:04.944452Z",
     "iopub.status.idle": "2025-06-02T10:17:04.959724Z",
     "shell.execute_reply": "2025-06-02T10:17:04.957666Z",
     "shell.execute_reply.started": "2025-06-02T10:17:04.945026Z"
    }
   },
   "outputs": [
    {
     "name": "stdout",
     "output_type": "stream",
     "text": [
      "(1001, 101, 1, 5001, 'ordered', datetime.datetime(2025, 5, 1, 10, 0))\n",
      "(1002, 102, 2, 6002, 'ordered', datetime.datetime(2025, 5, 2, 14, 30))\n",
      "(1003, 103, 1, 5003, 'ordered', datetime.datetime(2025, 5, 3, 9, 15))\n",
      "(1004, 104, 3, 7004, 'cancelled', datetime.datetime(2025, 5, 4, 16, 45))\n",
      "(1005, 105, 2, 6005, 'cancelled', datetime.datetime(2025, 5, 5, 11, 20))\n"
     ]
    }
   ],
   "source": [
    "with conn.cursor() as cursor:\n",
    "    cursor.execute(\"SELECT * FROM orders;\")\n",
    "\n",
    "    # 获取所有结果\n",
    "    records = cursor.fetchall()\n",
    "\n",
    "    # 输出查询结果\n",
    "    for row in records:\n",
    "        print(row)"
   ]
  },
  {
   "cell_type": "code",
   "execution_count": 4,
   "id": "f097f9da-1cc7-4581-aff6-68ea44ae916a",
   "metadata": {
    "execution": {
     "iopub.execute_input": "2025-06-02T10:17:04.963307Z",
     "iopub.status.busy": "2025-06-02T10:17:04.962838Z",
     "iopub.status.idle": "2025-06-02T10:17:04.971982Z",
     "shell.execute_reply": "2025-06-02T10:17:04.970903Z",
     "shell.execute_reply.started": "2025-06-02T10:17:04.963274Z"
    }
   },
   "outputs": [
    {
     "name": "stdout",
     "output_type": "stream",
     "text": [
      "(1001, 'pending', datetime.datetime(2025, 5, 1, 10, 5))\n",
      "(1002, 'in_transit', datetime.datetime(2025, 5, 2, 15, 0))\n",
      "(1003, 'delivered', datetime.datetime(2025, 5, 3, 17, 30))\n",
      "(1004, 'cancelled', datetime.datetime(2025, 5, 4, 16, 50))\n",
      "(1005, 'in_transit', datetime.datetime(2025, 5, 5, 11, 30))\n"
     ]
    }
   ],
   "source": [
    "with conn.cursor() as cursor:\n",
    "    cursor.execute(\"SELECT * FROM logistics;\")\n",
    "\n",
    "    # 获取所有结果\n",
    "    records = cursor.fetchall()\n",
    "\n",
    "    # 输出查询结果\n",
    "    for row in records:\n",
    "        print(row)"
   ]
  },
  {
   "cell_type": "code",
   "execution_count": 5,
   "id": "76ec400d-2538-4e0d-85b0-4908f7ea1763",
   "metadata": {
    "execution": {
     "iopub.execute_input": "2025-06-02T10:17:05.967510Z",
     "iopub.status.busy": "2025-06-02T10:17:05.967189Z",
     "iopub.status.idle": "2025-06-02T10:17:05.974919Z",
     "shell.execute_reply": "2025-06-02T10:17:05.973805Z",
     "shell.execute_reply.started": "2025-06-02T10:17:05.967491Z"
    }
   },
   "outputs": [
    {
     "name": "stdout",
     "output_type": "stream",
     "text": [
      "数据库连接已关闭\n"
     ]
    }
   ],
   "source": [
    "if conn:\n",
    "    cursor.close()\n",
    "    conn.close()\n",
    "    print(\"数据库连接已关闭\")"
   ]
  },
  {
   "cell_type": "markdown",
   "id": "a781e234-8ec9-4594-a770-4afcd2750c36",
   "metadata": {},
   "source": [
    "### 3. MCP 调用 PostgreSQL\n",
    "\n",
    "首先启动 vLLM 服务，来到项目根目录：\n",
    "\n",
    "```bash\n",
    "cd test_openai_agent\n",
    "bash vllm_server.sh\n",
    "```"
   ]
  },
  {
   "cell_type": "code",
   "execution_count": null,
   "id": "37d4f6e1-a6cf-4f90-a67d-690085ad0d2d",
   "metadata": {},
   "outputs": [],
   "source": []
  }
 ],
 "metadata": {
  "kernelspec": {
   "display_name": "Python 3 (ipykernel)",
   "language": "python",
   "name": "python3"
  },
  "language_info": {
   "codemirror_mode": {
    "name": "ipython",
    "version": 3
   },
   "file_extension": ".py",
   "mimetype": "text/x-python",
   "name": "python",
   "nbconvert_exporter": "python",
   "pygments_lexer": "ipython3",
   "version": "3.12.9"
  }
 },
 "nbformat": 4,
 "nbformat_minor": 5
}
