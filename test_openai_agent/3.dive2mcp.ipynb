{
 "cells": [
  {
   "cell_type": "markdown",
   "id": "4df41d73-9420-46b2-ae6b-52104603bff2",
   "metadata": {
    "execution": {
     "iopub.execute_input": "2025-05-18T09:44:05.545077Z",
     "iopub.status.busy": "2025-05-18T09:44:05.544655Z",
     "iopub.status.idle": "2025-05-18T09:44:05.551092Z",
     "shell.execute_reply": "2025-05-18T09:44:05.550347Z",
     "shell.execute_reply.started": "2025-05-18T09:44:05.545057Z"
    }
   },
   "source": [
    "# 自实现的 MCP Client\n",
    "\n",
    "通过上一节，我们发现依赖 Qwen-Agent 特别容易使用 MCP Server。但是这种容易让人感到不安心。为了了解 Qwen-Agent 在中间做了什么，我们通过命令行启动一个 `mcp-server-sqlite` 服务，然后自己编程连接这个 MCP Server。\n",
    "\n",
    "```bash\n",
    "uvx mcp-server-sqlite --db-path test.db\n",
    "```"
   ]
  },
  {
   "cell_type": "code",
   "execution_count": null,
   "id": "f97ff8d4-1dd3-4135-a253-2befcfc150d0",
   "metadata": {},
   "outputs": [],
   "source": []
  },
  {
   "cell_type": "code",
   "execution_count": null,
   "id": "63ad27b9-da68-4539-b8bc-e1ccb24b6c46",
   "metadata": {},
   "outputs": [],
   "source": []
  },
  {
   "cell_type": "code",
   "execution_count": null,
   "id": "a597aeaa-5493-479c-a285-dbb90452dad6",
   "metadata": {},
   "outputs": [],
   "source": []
  }
 ],
 "metadata": {
  "kernelspec": {
   "display_name": "Python 3 (ipykernel)",
   "language": "python",
   "name": "python3"
  },
  "language_info": {
   "codemirror_mode": {
    "name": "ipython",
    "version": 3
   },
   "file_extension": ".py",
   "mimetype": "text/x-python",
   "name": "python",
   "nbconvert_exporter": "python",
   "pygments_lexer": "ipython3",
   "version": "3.12.9"
  }
 },
 "nbformat": 4,
 "nbformat_minor": 5
}
