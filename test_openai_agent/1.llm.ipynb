{
 "cells": [
  {
   "cell_type": "markdown",
   "id": "4df41d73-9420-46b2-ae6b-52104603bff2",
   "metadata": {
    "execution": {
     "iopub.execute_input": "2025-05-18T09:44:05.545077Z",
     "iopub.status.busy": "2025-05-18T09:44:05.544655Z",
     "iopub.status.idle": "2025-05-18T09:44:05.551092Z",
     "shell.execute_reply": "2025-05-18T09:44:05.550347Z",
     "shell.execute_reply.started": "2025-05-18T09:44:05.545057Z"
    }
   },
   "source": [
    "## 使用 OpenAI Agent 连接 vLLM 服务\n",
    "\n",
    "参考：\n",
    "\n",
    "- GitHub: [openai/openai-agents-python](https://github.com/openai/openai-agents-python)\n",
    "- Docs: [openai-agents-python](https://openai.github.io/openai-agents-python/)\n",
    "\n",
    "对于非 OpenAI 模型的配置，参考 [Configuring the SDK](https://openai.github.io/openai-agents-python/config/#api-keys-and-clients)"
   ]
  },
  {
   "cell_type": "markdown",
   "id": "cfed9592-55ff-4652-b03d-0d3f00b9db13",
   "metadata": {
    "execution": {
     "iopub.execute_input": "2025-05-21T17:22:42.738367Z",
     "iopub.status.busy": "2025-05-21T17:22:42.738040Z",
     "iopub.status.idle": "2025-05-21T17:22:42.743799Z",
     "shell.execute_reply": "2025-05-21T17:22:42.742648Z",
     "shell.execute_reply.started": "2025-05-21T17:22:42.738346Z"
    }
   },
   "source": [
    "运行代码前，先启动 vLLM 服务，在项目根目录运行：\n",
    "\n",
    "```bash\n",
    "cd test_qwen3\n",
    "bash vllm_server.sh\n",
    "```"
   ]
  },
  {
   "cell_type": "code",
   "execution_count": 1,
   "id": "90ea5121-2901-4a93-85b4-0aedc99fb36e",
   "metadata": {
    "execution": {
     "iopub.execute_input": "2025-05-24T11:48:46.945129Z",
     "iopub.status.busy": "2025-05-24T11:48:46.944905Z",
     "iopub.status.idle": "2025-05-24T11:48:46.954800Z",
     "shell.execute_reply": "2025-05-24T11:48:46.954151Z",
     "shell.execute_reply.started": "2025-05-24T11:48:46.945104Z"
    }
   },
   "outputs": [],
   "source": [
    "# !uv pip install openai-agents"
   ]
  },
  {
   "cell_type": "code",
   "execution_count": 2,
   "id": "a7382b0d-fcd1-4189-b516-74785e63799b",
   "metadata": {
    "execution": {
     "iopub.execute_input": "2025-05-24T11:48:47.104253Z",
     "iopub.status.busy": "2025-05-24T11:48:47.103305Z",
     "iopub.status.idle": "2025-05-24T11:48:47.126674Z",
     "shell.execute_reply": "2025-05-24T11:48:47.125656Z",
     "shell.execute_reply.started": "2025-05-24T11:48:47.104225Z"
    }
   },
   "outputs": [],
   "source": [
    "import nest_asyncio\n",
    "nest_asyncio.apply()"
   ]
  },
  {
   "cell_type": "code",
   "execution_count": 3,
   "id": "cd8d702a-ee62-49de-b0cf-a6aeab27fef2",
   "metadata": {
    "execution": {
     "iopub.execute_input": "2025-05-24T11:48:47.267603Z",
     "iopub.status.busy": "2025-05-24T11:48:47.267262Z",
     "iopub.status.idle": "2025-05-24T11:48:50.141261Z",
     "shell.execute_reply": "2025-05-24T11:48:50.140859Z",
     "shell.execute_reply.started": "2025-05-24T11:48:47.267560Z"
    }
   },
   "outputs": [
    {
     "name": "stdout",
     "output_type": "stream",
     "text": [
      "\n",
      "\n",
      "Qwen3是阿里巴巴集团旗下的量子人工智能大模型，具备强大的多模态能力、高性能计算能力和安全机制，适用于多种应用场景。\n"
     ]
    },
    {
     "name": "stderr",
     "output_type": "stream",
     "text": [
      "[non-fatal] Tracing: request failed: [Errno 101] Network is unreachable\n"
     ]
    }
   ],
   "source": [
    "from openai import AsyncOpenAI\n",
    "from agents import (set_default_openai_client, set_default_openai_api,\n",
    "                    Agent, Runner, ModelSettings)\n",
    "\n",
    "# 创建自定义的 OpenAI 客户端\n",
    "custom_client = AsyncOpenAI(\n",
    "    base_url=\"http://localhost:8000/v1\",\n",
    "    api_key=\"token-kcgyrk\")\n",
    "set_default_openai_client(custom_client)\n",
    "\n",
    "# 使用 Chat Completions API\n",
    "set_default_openai_api(\"chat_completions\") \n",
    "\n",
    "agent = Agent(\n",
    "    name=\"Assistant\",\n",
    "    instructions=\"You are a helpful assistant\",\n",
    "    model=\"Qwen3-0.6B-FP8\",\n",
    "    model_settings=ModelSettings(\n",
    "        temperature=0.6,\n",
    "        top_p=0.95,\n",
    "    ),\n",
    ")\n",
    "\n",
    "result = Runner.run_sync(agent, \"一句话介绍Qwen3\")\n",
    "print(result.final_output)"
   ]
  },
  {
   "cell_type": "code",
   "execution_count": null,
   "id": "2f01b8a5-aed4-452c-b480-f6fc50801eac",
   "metadata": {},
   "outputs": [],
   "source": []
  }
 ],
 "metadata": {
  "kernelspec": {
   "display_name": "Python 3 (ipykernel)",
   "language": "python",
   "name": "python3"
  },
  "language_info": {
   "codemirror_mode": {
    "name": "ipython",
    "version": 3
   },
   "file_extension": ".py",
   "mimetype": "text/x-python",
   "name": "python",
   "nbconvert_exporter": "python",
   "pygments_lexer": "ipython3",
   "version": "3.12.9"
  }
 },
 "nbformat": 4,
 "nbformat_minor": 5
}
